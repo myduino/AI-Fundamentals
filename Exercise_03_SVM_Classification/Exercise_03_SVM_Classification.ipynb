{
 "cells": [
  {
   "cell_type": "markdown",
   "metadata": {},
   "source": [
    "# Classification of Breast Cancer Type.\n",
    "\n",
    "Let's walk through a step-by-step machine learning workflow to classify whether a cancer type diagnosis is Malignant or Benign based on all features in the dataset. We'll also include data visualization as part of the workflow.\n",
    "\n",
    "[Malignant vs. Benign Tumors: What Are the Differences?](https://www.verywellhealth.com/what-does-malignant-and-benign-mean-514240)\n",
    "\n",
    "Source of dataset from [Kaggle](https://www.kaggle.com/datasets/uciml/breast-cancer-wisconsin-data)\n",
    "\n",
    "## Data Attributes\n",
    "1. `buying`: Car buying price (categorical: 'vhigh', 'high', 'med', 'low')\n",
    "2. `maint`: Maintenance price (categorical: 'vhigh', 'high', 'med', 'low')\n",
    "3. `door`: Number of doors (categorical: '2', '3', '4', '5more')\n",
    "4. `persons`: Person capacity (categorical: '2', '4', 'more')\n",
    "5. `lug_boot`: Luggage boot size (categorical: 'small', 'med', 'big')\n",
    "6. `safety`: Safety of the car (categorical: 'low', 'med', 'high')\n",
    "7. `class`: Acceptability of the car (categorical: 'unacc', 'acc', 'good', 'vgood')"
   ]
  },
  {
   "cell_type": "markdown",
   "metadata": {},
   "source": [
    "## Step 1: Load and Explore the Data\n",
    "First, we'll load the data from the CSV file and take a look at its structure.\n",
    "\n",
    "Explanation:\n",
    "- We'll use `pandas` to load the data.\n",
    "- Inspect the first few rows and basic statistics to understand the dataset."
   ]
  },
  {
   "cell_type": "code",
   "execution_count": null,
   "metadata": {},
   "outputs": [],
   "source": [
    "import pandas as pd\n",
    "\n",
    "# Load the data\n",
    "data = pd.read_csv('breast-cancer.csv')\n",
    "\n",
    "# Display the first few rows of the dataset\n",
    "data.head()"
   ]
  },
  {
   "cell_type": "code",
   "execution_count": null,
   "metadata": {},
   "outputs": [],
   "source": [
    "# Display basic statistics\n",
    "data.describe()"
   ]
  },
  {
   "cell_type": "code",
   "execution_count": null,
   "metadata": {},
   "outputs": [],
   "source": [
    "# Display information about the dataset\n",
    "data.info()"
   ]
  },
  {
   "cell_type": "markdown",
   "metadata": {},
   "source": [
    "## Step 2: Data Visualization\n",
    "\n",
    "We'll create a pie chart to visualize the distribution of the diagnosis (Malignant or Benign).\n",
    "\n",
    "Explanation:\n",
    "- Use `matplotlib` to create a pie chart.\n",
    "- Show the proportion of Malignant and Benign diagnoses."
   ]
  },
  {
   "cell_type": "code",
   "execution_count": null,
   "metadata": {},
   "outputs": [],
   "source": [
    "import matplotlib.pyplot as plt\n",
    "\n",
    "# Plot the distribution of diagnosis\n",
    "diagnosis_counts = data['diagnosis'].value_counts()\n",
    "plt.figure(figsize=(8, 8))\n",
    "plt.pie(diagnosis_counts, labels=diagnosis_counts.index, autopct='%1.1f%%', startangle=140)\n",
    "plt.title('Distribution of Cancer Diagnosis')\n",
    "plt.show()"
   ]
  },
  {
   "cell_type": "markdown",
   "metadata": {},
   "source": [
    "## Step 3: Data Preprocessing\n",
    "\n",
    "We'll encode categorical variables and split the data into training and testing sets.\n",
    "\n",
    "Explanation:\n",
    "- Removed `Unnamed: 32` column.\n",
    "- Convert the diagnosis column to numerical values (`Malignant`: 1, `Benign`: 0).\n",
    "- Split the dataset into features and target.\n",
    "- Split the data into training and testing sets."
   ]
  },
  {
   "cell_type": "code",
   "execution_count": null,
   "metadata": {},
   "outputs": [],
   "source": [
    "# Drop the 'Unnamed: 32' column\n",
    "data.drop(columns=['Unnamed: 32'], inplace=True)\n",
    "\n",
    "from sklearn.preprocessing import LabelEncoder\n",
    "\n",
    "# Define features and target\n",
    "X = data.iloc[:, 2:].values\n",
    "y = data.iloc[:, 1].values\n",
    "\n",
    "lb = LabelEncoder()\n",
    "y = lb.fit_transform(y)\n",
    "\n",
    "from sklearn.model_selection import train_test_split\n",
    "\n",
    "# Split the data\n",
    "X_train, X_test, y_train, y_test = train_test_split(X, y, test_size=0.2)\n",
    "\n",
    "# Display the shape of the training and testing sets\n",
    "print(X_train.shape, X_test.shape, y_train.shape, y_test.shape)"
   ]
  },
  {
   "cell_type": "markdown",
   "metadata": {},
   "source": [
    "## Step 4: Train a Support Vector Machine (SVM) Model\n",
    "\n",
    "We'll train an SVM model to classify the diagnosis.\n",
    "\n",
    "Explanation:\n",
    "- We'll standardize the features using `StandardScaler` class from scikit-learn.\n",
    "- We'll use the `SVC` class from scikit-learn.\n",
    "- Fit the model to the training data."
   ]
  },
  {
   "cell_type": "code",
   "execution_count": null,
   "metadata": {},
   "outputs": [],
   "source": [
    "from sklearn.preprocessing import StandardScaler\n",
    "\n",
    "# Standardize the features\n",
    "scaler = StandardScaler()\n",
    "X_train_scaled = scaler.fit_transform(X_train)\n",
    "X_test_scaled = scaler.transform(X_test)\n",
    "\n",
    "from sklearn.svm import SVC\n",
    "\n",
    "# Initialize and train the SVM model\n",
    "# svm_model = SVC()   # default RBF kernel, C=1\n",
    "svm_model = SVC(kernel='linear', C=0.1)\n",
    "svm_model.fit(X_train_scaled, y_train)"
   ]
  },
  {
   "cell_type": "markdown",
   "metadata": {},
   "source": [
    "## Step 5: Evaluate the Model\n",
    "\n",
    "We'll evaluate the model's performance using metrics such as `accuracy`, `precision`, `recall`, and `F1-score`.\n",
    "\n",
    "Explanation:\n",
    "- Predict the target values for the test set.\n",
    "- Calculate evaluation metrics to assess model performance."
   ]
  },
  {
   "cell_type": "code",
   "execution_count": null,
   "metadata": {},
   "outputs": [],
   "source": [
    "from sklearn.metrics import accuracy_score, precision_score, recall_score, f1_score\n",
    "\n",
    "# Predict the target values for the test set\n",
    "y_pred = svm_model.predict(X_test)\n",
    "\n",
    "# Calculate evaluation metrics\n",
    "accuracy = accuracy_score(y_test, y_pred)\n",
    "precision = precision_score(y_test, y_pred)\n",
    "recall = recall_score(y_test, y_pred)\n",
    "f1 = f1_score(y_test, y_pred)\n",
    "\n",
    "print(f'Accuracy: {accuracy}')\n",
    "print(f'Precision: {precision}')\n",
    "print(f'Recall: {recall}')\n",
    "print(f'F1-score: {f1}')"
   ]
  },
  {
   "cell_type": "markdown",
   "metadata": {},
   "source": [
    "## Model Evaluation Metrics\n",
    "\n",
    "### Accuracy:\n",
    "\n",
    "Accuracy=0.9825\n",
    "\n",
    "- Explanation: Accuracy measures the proportion of correct predictions (both true positives and true negatives) among the total number of cases examined. An accuracy of 0.9825 means that the model correctly classified about 98.25% of the cancer diagnoses.\n",
    "- Interpretation: The model has very high accuracy, indicating that it performs exceptionally well overall in classifying cancer diagnoses.\n",
    "\n",
    "### Precision:\n",
    "\n",
    "Precision=1.0\n",
    "\n",
    "- Explanation: Precision is the ratio of true positive predictions to the total number of positive predictions (true positives + false positives). A precision of 1.0 means that 100% of the instances predicted as Malignant by the model are actually Malignant.\n",
    "- Interpretation: The precision is perfect, which means the model did not produce any false positives. Every prediction of Malignant was correct.\n",
    "\n",
    "### Recall:\n",
    "\n",
    "Recall=0.9592\n",
    "\n",
    "- Explanation: Recall (also known as sensitivity or true positive rate) is the ratio of true positive predictions to the total number of actual positives (true positives + false negatives). A recall of 0.9592 means that about 95.92% of all actual Malignant cases were correctly identified by the model.\n",
    "- Interpretation: The recall is very high, indicating that the model is very effective at identifying Malignant cases, though it missed a small number (about 4.08%) of actual Malignant cases (false negatives).\n",
    "\n",
    "### F1-score:\n",
    "\n",
    "F1-score=0.9792\n",
    "\n",
    "- Explanation: The F1-score is the harmonic mean of precision and recall. It provides a single metric that balances both precision and recall. An F1-score of 0.9792 indicates a very high balance between precision and recall.\n",
    "- Interpretation: The F1-score is very high, indicating that the model maintains a great balance between precision and recall.\n",
    "\n",
    "## Summary\n",
    "- `Accuracy` (98.25%): The model performs exceptionally well in overall classification, with a very high proportion of correct predictions.\n",
    "- `Precision` (100%): The model is perfect in identifying Malignant cases, with no false positives.\n",
    "- `Recall` (95.92%): The model is very effective at identifying most Malignant cases, with a very small number of false negatives.\n",
    "- `F1-score` (97.92%): The model maintains a very high balance between precision and recall, indicating strong performance in both metrics."
   ]
  },
  {
   "cell_type": "markdown",
   "metadata": {},
   "source": [
    "## Step 6: Predict Breast Cancer Type Diagnosis as Malignant or Benign\n",
    "\n",
    "- `Collect New Patient Data`: Ensure the new data includes values for all the features used in the training set.\n",
    "- `Preprocess the New Data`: Standardize the new data using the same scaler used for the training data.\n",
    "- `Make Predictions`: Use the trained SVM model to predict the diagnosis for the new data."
   ]
  },
  {
   "cell_type": "code",
   "execution_count": null,
   "metadata": {},
   "outputs": [],
   "source": [
    "# New patient data\n",
    "new_patient = {\n",
    "    'radius_mean': 14.2,\n",
    "    'texture_mean': 19.8,\n",
    "    'perimeter_mean': 94.3,\n",
    "    'area_mean': 603.4,\n",
    "    'smoothness_mean': 0.1,\n",
    "    'compactness_mean': 0.12,\n",
    "    'concavity_mean': 0.09,\n",
    "    'concave points_mean': 0.05,\n",
    "    'symmetry_mean': 0.17,\n",
    "    'fractal_dimension_mean': 0.06,\n",
    "    'radius_se': 0.4,\n",
    "    'texture_se': 1.2,\n",
    "    'perimeter_se': 2.3,\n",
    "    'area_se': 18.5,\n",
    "    'smoothness_se': 0.007,\n",
    "    'compactness_se': 0.03,\n",
    "    'concavity_se': 0.04,\n",
    "    'concave points_se': 0.011,\n",
    "    'symmetry_se': 0.02,\n",
    "    'fractal_dimension_se': 0.003,\n",
    "    'radius_worst': 16.2,\n",
    "    'texture_worst': 25.4,\n",
    "    'perimeter_worst': 106.3,\n",
    "    'area_worst': 715.2,\n",
    "    'smoothness_worst': 0.145,\n",
    "    'compactness_worst': 0.23,\n",
    "    'concavity_worst': 0.16,\n",
    "    'concave points_worst': 0.1,\n",
    "    'symmetry_worst': 0.24,\n",
    "    'fractal_dimension_worst': 0.075\n",
    "}\n",
    "\n",
    "# Convert the new patient data to a DataFrame\n",
    "new_patient_data = pd.DataFrame([new_patient])\n",
    "\n",
    "# Standardize the new patient data\n",
    "new_patient_scaled = scaler.fit_transform(new_patient_data)\n",
    "\n",
    "# Make a prediction\n",
    "new_patient_prediction = svm_model.predict(new_patient_scaled)\n",
    "\n",
    "# Output the prediction\n",
    "diagnosis = 'Malignant' if new_patient_prediction[0] == 1 else 'Benign'\n",
    "print(f'Predicted diagnosis for the new patient: {diagnosis}')"
   ]
  }
 ],
 "metadata": {
  "kernelspec": {
   "display_name": "Python 3",
   "language": "python",
   "name": "python3"
  },
  "language_info": {
   "codemirror_mode": {
    "name": "ipython",
    "version": 3
   },
   "file_extension": ".py",
   "mimetype": "text/x-python",
   "name": "python",
   "nbconvert_exporter": "python",
   "pygments_lexer": "ipython3",
   "version": "3.11.4"
  }
 },
 "nbformat": 4,
 "nbformat_minor": 2
}
