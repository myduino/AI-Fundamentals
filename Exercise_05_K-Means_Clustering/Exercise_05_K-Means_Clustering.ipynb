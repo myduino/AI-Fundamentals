{
  "cells": [
    {
      "cell_type": "markdown",
      "metadata": {},
      "source": [
        "# Clustering Iris Flower Species\n",
        "\n",
        "Let's walk through a machine learning workflow to classify the iris flower species based on the features provided using K-Means.\n",
        "\n",
        "Source of dataset from [Kaggle](https://www.kaggle.com/datasets/uciml/iris)\n",
        "\n",
        "## Data Attributes\n",
        "1. `sepal_length`: The length of the sepal (in cm).\n",
        "2. `sepal_width`: The width of the sepal (in cm).\n",
        "3. `petal_length`: The length of the petal (in cm).\n",
        "4. `petal_width`: The width of the petal (in cm).\n",
        "5. `species`: The species of the iris flower (e.g., setosa, versicolor, virginica)."
      ]
    },
    {
      "cell_type": "markdown",
      "metadata": {},
      "source": [
        "## Step 1: Load and Explore the Data\n",
        "\n",
        "Load the dataset from a CSV file and understand its structure.\n",
        "\n",
        "Process:\n",
        "- Use `pandas` to read the CSV file.\n",
        "- Display the first few rows, summary statistics, and information about the dataset.\n"
      ]
    },
    {
      "cell_type": "code",
      "execution_count": null,
      "metadata": {},
      "outputs": [],
      "source": [
        "import pandas as pd\n",
        "\n",
        "# Load the dataset from the CSV file\n",
        "file_path = 'iris-flower.csv'\n",
        "data = pd.read_csv(file_path)\n",
        "\n",
        "# Display basic information about the dataset\n",
        "print(data.head())\n",
        "print(data.describe())\n",
        "print(data.info())\n"
      ]
    },
    {
      "cell_type": "markdown",
      "metadata": {},
      "source": [
        "## Step 2: Preprocess the Data\n",
        "\n",
        "Prepare the data for clustering by scaling the features.\n",
        "\n",
        "Process:\n",
        "- Extract the feature columns (drop the target column 'species').\n",
        "- Use StandardScaler to scale the features to have mean 0 and variance 1."
      ]
    },
    {
      "cell_type": "code",
      "execution_count": null,
      "metadata": {},
      "outputs": [],
      "source": [
        "from sklearn.preprocessing import StandardScaler\n",
        "\n",
        "# Extract features and scale the data\n",
        "features = data.drop('species', axis=1)  # Assuming 'species' is the target column\n",
        "scaler = StandardScaler()\n",
        "scaled_features = scaler.fit_transform(features)"
      ]
    },
    {
      "cell_type": "markdown",
      "metadata": {},
      "source": [
        "## Step 3: Apply K-Means Clustering\n",
        "\n",
        "Cluster the data into groups using the K-Means algorithm.\n",
        "\n",
        "Process:\n",
        "- Use KMeans from sklearn.cluster to apply K-Means clustering.\n",
        "- Fit the model to the scaled features and predict cluster labels.\n",
        "- Add the cluster labels to the original dataset."
      ]
    },
    {
      "cell_type": "code",
      "execution_count": null,
      "metadata": {},
      "outputs": [],
      "source": [
        "from sklearn.cluster import KMeans\n",
        "\n",
        "# Apply K-Means clustering\n",
        "kmeans = KMeans(n_clusters=3, n_init=1)\n",
        "kmeans.fit(scaled_features)\n",
        "clusters = kmeans.labels_\n",
        "\n",
        "# Add the cluster labels to the original data\n",
        "data['cluster'] = clusters\n"
      ]
    },
    {
      "cell_type": "markdown",
      "metadata": {},
      "source": [
        "## Step 4: Visualize the Clusters\n",
        "\n",
        "Visualize the clustering results and compare them with the actual labels.\n",
        "\n",
        "Process:\n",
        "- Use matplotlib to plot the actual labels and the cluster labels."
      ]
    },
    {
      "cell_type": "code",
      "execution_count": null,
      "metadata": {},
      "outputs": [],
      "source": [
        "import matplotlib.pyplot as plt\n",
        "\n",
        "# Plot the clusters\n",
        "plt.figure(figsize=(10, 5))\n",
        "\n",
        "# Actual labels plot\n",
        "plt.subplot(1, 2, 1)\n",
        "plt.scatter(scaled_features[:, 0], scaled_features[:, 1], c=data['species'].astype('category').cat.codes, cmap='viridis')\n",
        "plt.title('Actual Labels')\n",
        "\n",
        "# K-Means clusters plot\n",
        "plt.subplot(1, 2, 2)\n",
        "plt.scatter(scaled_features[:, 0], scaled_features[:, 1], c=data['cluster'], cmap='viridis')\n",
        "plt.title('K-Means Clusters')\n",
        "\n",
        "plt.show()"
      ]
    },
    {
      "cell_type": "markdown",
      "metadata": {},
      "source": [
        "## Step 5: Evaluate the Clustering\n",
        "\n",
        "Evaluate the clustering results using the Adjusted Rand Index (ARI).\n",
        "\n",
        "Process:\n",
        "- Use `adjusted_rand_score` from sklearn.metrics to compare the cluster labels with the actual labels.\n"
      ]
    },
    {
      "cell_type": "code",
      "execution_count": null,
      "metadata": {},
      "outputs": [],
      "source": [
        "from sklearn.metrics import adjusted_rand_score\n",
        "\n",
        "# Evaluate the clustering\n",
        "ari = adjusted_rand_score(data['species'].astype('category').cat.codes, data['cluster'])\n",
        "print(f'Adjusted Rand Index: {ari}')\n"
      ]
    },
    {
      "cell_type": "markdown",
      "metadata": {},
      "source": [
        "## Step 6: Create Cluster to Species Mapping\n",
        "\n",
        "Map each cluster to the most common species within that cluster.\n",
        "\n",
        "Process:\n",
        "- For each cluster, find the most common species.\n",
        "- Create a mapping from cluster labels to species names."
      ]
    },
    {
      "cell_type": "code",
      "execution_count": null,
      "metadata": {},
      "outputs": [],
      "source": [
        "# Create Cluster to Species Mapping\n",
        "species_names = data['species'].unique()\n",
        "cluster_to_species = {}\n",
        "\n",
        "for cluster in range(3):\n",
        "    species_in_cluster = data[data['cluster'] == cluster]['species']\n",
        "    most_common_species = species_in_cluster.value_counts().idxmax()\n",
        "    cluster_to_species[cluster] = most_common_species\n",
        "\n",
        "print('Cluster to species mapping:')\n",
        "print(cluster_to_species)"
      ]
    },
    {
      "cell_type": "markdown",
      "metadata": {},
      "source": [
        "## Step 7: Predict the Cluster for New Data and Map to Species Name\n",
        "\n",
        "Predict the cluster for a new data point and map the cluster to the species name.\n",
        "\n",
        "Process:\n",
        "- Create a new data point and scale it.\n",
        "- Predict the cluster using the trained K-Means model.\n",
        "- Map the predicted cluster to the species name using the created mapping."
      ]
    },
    {
      "cell_type": "code",
      "execution_count": null,
      "metadata": {},
      "outputs": [],
      "source": [
        "# Predict the Cluster for New Data\n",
        "new_data = pd.DataFrame([[5.0, 3.5, 1.5, 0.2]], columns=features.columns)\n",
        "new_data_scaled = scaler.transform(new_data)\n",
        "predicted_cluster = kmeans.predict(new_data_scaled)\n",
        "predicted_species = cluster_to_species[predicted_cluster[0]]\n",
        "\n",
        "print(f'Predicted cluster for new data: {predicted_cluster[0]}')\n",
        "print(f'Predicted species for new data: {predicted_species}')"
      ]
    },
    {
      "cell_type": "markdown",
      "metadata": {},
      "source": [
        "## Step 8: Analyze the Cluster Centers\n",
        "\n",
        "Understand the characteristics of each cluster by analyzing the cluster centers.\n",
        "\n",
        "Process:\n",
        "- Inverse transform the cluster centers to the original scale.\n",
        "- Create a DataFrame of the cluster centers."
      ]
    },
    {
      "cell_type": "code",
      "execution_count": null,
      "metadata": {},
      "outputs": [],
      "source": [
        "# Analyze the cluster centers\n",
        "cluster_centers = scaler.inverse_transform(kmeans.cluster_centers_)\n",
        "cluster_centers_df = pd.DataFrame(cluster_centers, columns=features.columns)\n",
        "print('Cluster Centers:')\n",
        "print(cluster_centers_df)"
      ]
    },
    {
      "cell_type": "markdown",
      "metadata": {},
      "source": [
        "## Step 9: Compare with Original Labels\n",
        "\n",
        "Create a confusion matrix to compare the clusters with the original labels.\n",
        "\n",
        "Process:\n",
        "- Use confusion_matrix from sklearn.metrics to compare the predicted clusters with the actual species labels."
      ]
    },
    {
      "cell_type": "code",
      "execution_count": null,
      "metadata": {},
      "outputs": [],
      "source": [
        "import seaborn as sns\n",
        "import matplotlib.pyplot as plt\n",
        "from sklearn.metrics import confusion_matrix\n",
        "\n",
        "# Create the confusion matrix\n",
        "conf_matrix = confusion_matrix(data['species'].astype('category').cat.codes, data['cluster'])\n",
        "\n",
        "# Plot the confusion matrix as a heatmap\n",
        "plt.figure(figsize=(8, 6))\n",
        "sns.heatmap(conf_matrix, annot=True, fmt='d', cmap='Blues', xticklabels=species_names, yticklabels=species_names)\n",
        "plt.xlabel('Predicted Clusters')\n",
        "plt.ylabel('Actual Species')\n",
        "plt.title('Confusion Matrix')\n",
        "plt.show()"
      ]
    },
    {
      "cell_type": "markdown",
      "metadata": {},
      "source": [
        "## Understanding the Confusion Matrix\n",
        "- Rows represent the actual classes (species).\n",
        "- Columns represent the predicted clusters.\n",
        "\n",
        "Each element in the matrix at position (i, j) indicates the number of samples of the actual class i that were predicted to be in cluster j.\n",
        "\n",
        "## Interpreting the Confusion Matrix\n",
        "\n",
        "1. First Row (Actual: Setosa):\n",
        "\n",
        "- [50, 0, 0]: All 50 samples of Setosa were correctly clustered into a single cluster (predicted cluster 0).\n",
        "- This indicates that the K-Means algorithm did a perfect job in identifying Setosa samples.\n",
        "\n",
        "2. Second Row (Actual: Versicolor):\n",
        "\n",
        "- [0, 38, 12]: Out of 50 samples of Versicolor, 38 were correctly clustered into one cluster (predicted cluster 1), but 12 were incorrectly clustered into another cluster (predicted cluster 2).\n",
        "- This indicates that while the algorithm identified most Versicolor samples correctly, there is some confusion with Virginica samples.\n",
        "\n",
        "3. Third Row (Actual: Virginica):\n",
        "\n",
        "- [0, 14, 36]: Out of 50 samples of Virginica, 36 were correctly clustered into one cluster (predicted cluster 2), but 14 were incorrectly clustered into another cluster (predicted cluster 1).\n",
        "- This shows that there is a notable overlap/confusion between Versicolor and Virginica samples.\n",
        "\n",
        "## Summary\n",
        "- Setosa: Perfectly clustered (50 out of 50 correctly clustered).\n",
        "- Versicolor: Majority correctly clustered (38 out of 50), with some confusion (12 samples) with Virginica.\n",
        "- Virginica: Majority correctly clustered (36 out of 50), with some confusion (14 samples) with Versicolor."
      ]
    }
  ],
  "metadata": {
    "kernelspec": {
      "display_name": "Python 3",
      "language": "python",
      "name": "python3"
    },
    "language_info": {
      "codemirror_mode": {
        "name": "ipython",
        "version": 3
      },
      "file_extension": ".py",
      "mimetype": "text/x-python",
      "name": "python",
      "nbconvert_exporter": "python",
      "pygments_lexer": "ipython3",
      "version": "3.11.4"
    }
  },
  "nbformat": 4,
  "nbformat_minor": 0
}
