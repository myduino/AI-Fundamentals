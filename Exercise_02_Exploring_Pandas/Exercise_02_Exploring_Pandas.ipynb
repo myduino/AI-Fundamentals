{
 "cells": [
  {
   "cell_type": "markdown",
   "id": "8b1a8fa1",
   "metadata": {
    "papermill": {
     "duration": 0.00738,
     "end_time": "2023-10-17T12:59:55.009477",
     "exception": false,
     "start_time": "2023-10-17T12:59:55.002097",
     "status": "completed"
    },
    "tags": []
   },
   "source": [
    "# Exploring Pandas\n",
    "\n",
    "   1.  Introduction to Pandas\n",
    "   2.  Installing Pandas\n",
    "   3.  Basic Pandas Data Structures\n",
    "*         Series\n",
    "*         DataFrame\n",
    "   4.  Reading and Writing Data\n",
    "*       CSV\n",
    "*       Excel\n",
    "*       SQL\n",
    "   5.  Data Cleaning\n",
    "*         Handling Missing Values\n",
    "*         Dropping Columns/Rows\n",
    "   6.  Basic Operations\n",
    "*         Filtering\n",
    "*         Sorting\n",
    "*         Aggregating\n",
    "   7.  Data Transformation\n",
    "*         Merging\n",
    "*         Joining\n",
    "*         Reshaping\n",
    "   8.  Grouping and Aggregation\n",
    "   9.  Time-Series Data\n",
    "   10. Visualization in Pandas"
   ]
  },
  {
   "cell_type": "markdown",
   "id": "d587877c",
   "metadata": {
    "papermill": {
     "duration": 0.005535,
     "end_time": "2023-10-17T12:59:55.021647",
     "exception": false,
     "start_time": "2023-10-17T12:59:55.016112",
     "status": "completed"
    },
    "tags": []
   },
   "source": [
    "# 1. Introduction to Pandas\n",
    "\n",
    "Pandas is a fast, powerful, and flexible open-source library for data analysis and manipulation in Python."
   ]
  },
  {
   "cell_type": "markdown",
   "id": "6d6c62f1",
   "metadata": {
    "papermill": {
     "duration": 0.005656,
     "end_time": "2023-10-17T12:59:55.033469",
     "exception": false,
     "start_time": "2023-10-17T12:59:55.027813",
     "status": "completed"
    },
    "tags": []
   },
   "source": [
    "# 2. Installing Pandas"
   ]
  },
  {
   "cell_type": "code",
   "execution_count": null,
   "id": "d4d3f20e",
   "metadata": {
    "execution": {
     "iopub.execute_input": "2023-10-17T12:59:55.047979Z",
     "iopub.status.busy": "2023-10-17T12:59:55.047467Z",
     "iopub.status.idle": "2023-10-17T13:00:08.569859Z",
     "shell.execute_reply": "2023-10-17T13:00:08.566883Z"
    },
    "papermill": {
     "duration": 13.534,
     "end_time": "2023-10-17T13:00:08.573140",
     "exception": false,
     "start_time": "2023-10-17T12:59:55.039140",
     "status": "completed"
    },
    "tags": []
   },
   "outputs": [],
   "source": [
    "pip install pandas"
   ]
  },
  {
   "cell_type": "code",
   "execution_count": null,
   "id": "75e26bca",
   "metadata": {
    "execution": {
     "iopub.execute_input": "2023-10-17T13:00:08.589716Z",
     "iopub.status.busy": "2023-10-17T13:00:08.589317Z",
     "iopub.status.idle": "2023-10-17T13:00:09.028088Z",
     "shell.execute_reply": "2023-10-17T13:00:09.026772Z"
    },
    "papermill": {
     "duration": 0.451627,
     "end_time": "2023-10-17T13:00:09.032547",
     "exception": false,
     "start_time": "2023-10-17T13:00:08.580920",
     "status": "completed"
    },
    "tags": []
   },
   "outputs": [],
   "source": [
    "import pandas as pd"
   ]
  },
  {
   "cell_type": "markdown",
   "id": "46f05bed",
   "metadata": {
    "papermill": {
     "duration": 0.006962,
     "end_time": "2023-10-17T13:00:09.046850",
     "exception": false,
     "start_time": "2023-10-17T13:00:09.039888",
     "status": "completed"
    },
    "tags": []
   },
   "source": [
    "# 3. Basic Pandas Data Structures\n",
    "\n",
    "### Series\n",
    "\n",
    "* A Series is a one-dimensional labeled array capable of holding any data type.\n",
    "\n",
    "### Key Features:\n",
    "\n",
    "    1. Labels: Known as index\n",
    "    2. Data: Can be integer, float, string, etc.\n",
    "    \n",
    "    \n",
    " \n",
    " \n",
    "### **Creating a Series:**\n",
    " You can create a series from a list, NumPy array, or dictionary.\n",
    "   "
   ]
  },
  {
   "cell_type": "code",
   "execution_count": null,
   "id": "60dc02bc",
   "metadata": {
    "execution": {
     "iopub.execute_input": "2023-10-17T13:00:09.065114Z",
     "iopub.status.busy": "2023-10-17T13:00:09.063733Z",
     "iopub.status.idle": "2023-10-17T13:00:09.073141Z",
     "shell.execute_reply": "2023-10-17T13:00:09.071481Z"
    },
    "papermill": {
     "duration": 0.020173,
     "end_time": "2023-10-17T13:00:09.075764",
     "exception": false,
     "start_time": "2023-10-17T13:00:09.055591",
     "status": "completed"
    },
    "tags": []
   },
   "outputs": [],
   "source": [
    "# From a List\n",
    "sl = pd.Series([1,2,3,4])"
   ]
  },
  {
   "cell_type": "code",
   "execution_count": null,
   "id": "470dbd42",
   "metadata": {
    "execution": {
     "iopub.execute_input": "2023-10-17T13:00:09.090701Z",
     "iopub.status.busy": "2023-10-17T13:00:09.089967Z",
     "iopub.status.idle": "2023-10-17T13:00:09.097354Z",
     "shell.execute_reply": "2023-10-17T13:00:09.095840Z"
    },
    "papermill": {
     "duration": 0.017863,
     "end_time": "2023-10-17T13:00:09.100287",
     "exception": false,
     "start_time": "2023-10-17T13:00:09.082424",
     "status": "completed"
    },
    "tags": []
   },
   "outputs": [],
   "source": [
    "# From a Dictionary\n",
    "sd = pd.Series({'a': 1, 'b':2, 'c':3})"
   ]
  },
  {
   "cell_type": "markdown",
   "id": "5092b4cf",
   "metadata": {
    "papermill": {
     "duration": 0.007478,
     "end_time": "2023-10-17T13:00:09.116722",
     "exception": false,
     "start_time": "2023-10-17T13:00:09.109244",
     "status": "completed"
    },
    "tags": []
   },
   "source": [
    "# Operations:\n"
   ]
  },
  {
   "cell_type": "markdown",
   "id": "72f7c9ad",
   "metadata": {
    "papermill": {
     "duration": 0.007104,
     "end_time": "2023-10-17T13:00:09.133907",
     "exception": false,
     "start_time": "2023-10-17T13:00:09.126803",
     "status": "completed"
    },
    "tags": []
   },
   "source": [
    "### Indexing"
   ]
  },
  {
   "cell_type": "code",
   "execution_count": null,
   "id": "d2092b78",
   "metadata": {
    "execution": {
     "iopub.execute_input": "2023-10-17T13:00:09.151560Z",
     "iopub.status.busy": "2023-10-17T13:00:09.151111Z",
     "iopub.status.idle": "2023-10-17T13:00:09.161924Z",
     "shell.execute_reply": "2023-10-17T13:00:09.159946Z"
    },
    "papermill": {
     "duration": 0.023103,
     "end_time": "2023-10-17T13:00:09.165022",
     "exception": false,
     "start_time": "2023-10-17T13:00:09.141919",
     "status": "completed"
    },
    "tags": []
   },
   "outputs": [],
   "source": [
    "sl[0]"
   ]
  },
  {
   "cell_type": "code",
   "execution_count": null,
   "id": "462be06f",
   "metadata": {
    "execution": {
     "iopub.execute_input": "2023-10-17T13:00:09.179647Z",
     "iopub.status.busy": "2023-10-17T13:00:09.179291Z",
     "iopub.status.idle": "2023-10-17T13:00:09.193442Z",
     "shell.execute_reply": "2023-10-17T13:00:09.191696Z"
    },
    "papermill": {
     "duration": 0.024219,
     "end_time": "2023-10-17T13:00:09.195749",
     "exception": false,
     "start_time": "2023-10-17T13:00:09.171530",
     "status": "completed"
    },
    "tags": []
   },
   "outputs": [],
   "source": [
    "sd['b']"
   ]
  },
  {
   "cell_type": "markdown",
   "id": "5683ee36",
   "metadata": {
    "papermill": {
     "duration": 0.007936,
     "end_time": "2023-10-17T13:00:09.210416",
     "exception": false,
     "start_time": "2023-10-17T13:00:09.202480",
     "status": "completed"
    },
    "tags": []
   },
   "source": [
    "### Slicing"
   ]
  },
  {
   "cell_type": "code",
   "execution_count": null,
   "id": "fc5a2c93",
   "metadata": {
    "execution": {
     "iopub.execute_input": "2023-10-17T13:00:09.229020Z",
     "iopub.status.busy": "2023-10-17T13:00:09.228521Z",
     "iopub.status.idle": "2023-10-17T13:00:09.240648Z",
     "shell.execute_reply": "2023-10-17T13:00:09.238399Z"
    },
    "papermill": {
     "duration": 0.025875,
     "end_time": "2023-10-17T13:00:09.244769",
     "exception": false,
     "start_time": "2023-10-17T13:00:09.218894",
     "status": "completed"
    },
    "tags": []
   },
   "outputs": [],
   "source": [
    "sl[1:3]"
   ]
  },
  {
   "cell_type": "code",
   "execution_count": null,
   "id": "944b6938",
   "metadata": {
    "execution": {
     "iopub.execute_input": "2023-10-17T13:00:09.262074Z",
     "iopub.status.busy": "2023-10-17T13:00:09.261627Z",
     "iopub.status.idle": "2023-10-17T13:00:09.272220Z",
     "shell.execute_reply": "2023-10-17T13:00:09.270466Z"
    },
    "papermill": {
     "duration": 0.023146,
     "end_time": "2023-10-17T13:00:09.275464",
     "exception": false,
     "start_time": "2023-10-17T13:00:09.252318",
     "status": "completed"
    },
    "tags": []
   },
   "outputs": [],
   "source": [
    "sl.sum()"
   ]
  },
  {
   "cell_type": "code",
   "execution_count": null,
   "id": "27de4630",
   "metadata": {
    "execution": {
     "iopub.execute_input": "2023-10-17T13:00:09.294131Z",
     "iopub.status.busy": "2023-10-17T13:00:09.293628Z",
     "iopub.status.idle": "2023-10-17T13:00:09.299911Z",
     "shell.execute_reply": "2023-10-17T13:00:09.299098Z"
    },
    "papermill": {
     "duration": 0.017462,
     "end_time": "2023-10-17T13:00:09.302578",
     "exception": false,
     "start_time": "2023-10-17T13:00:09.285116",
     "status": "completed"
    },
    "tags": []
   },
   "outputs": [],
   "source": [
    "sd.sum()"
   ]
  },
  {
   "cell_type": "markdown",
   "id": "d34540d6",
   "metadata": {
    "papermill": {
     "duration": 0.007448,
     "end_time": "2023-10-17T13:00:09.318024",
     "exception": false,
     "start_time": "2023-10-17T13:00:09.310576",
     "status": "completed"
    },
    "tags": []
   },
   "source": [
    "### Custom Index"
   ]
  },
  {
   "cell_type": "code",
   "execution_count": null,
   "id": "18844aa9",
   "metadata": {
    "execution": {
     "iopub.execute_input": "2023-10-17T13:00:09.337022Z",
     "iopub.status.busy": "2023-10-17T13:00:09.336496Z",
     "iopub.status.idle": "2023-10-17T13:00:09.344695Z",
     "shell.execute_reply": "2023-10-17T13:00:09.342927Z"
    },
    "papermill": {
     "duration": 0.021962,
     "end_time": "2023-10-17T13:00:09.348039",
     "exception": false,
     "start_time": "2023-10-17T13:00:09.326077",
     "status": "completed"
    },
    "tags": []
   },
   "outputs": [],
   "source": [
    "sci = pd.Series([1,2,3,4], index = ['x','y','z','w'])"
   ]
  },
  {
   "cell_type": "code",
   "execution_count": null,
   "id": "8121ceb9",
   "metadata": {
    "execution": {
     "iopub.execute_input": "2023-10-17T13:00:09.364855Z",
     "iopub.status.busy": "2023-10-17T13:00:09.364496Z",
     "iopub.status.idle": "2023-10-17T13:00:09.372976Z",
     "shell.execute_reply": "2023-10-17T13:00:09.371682Z"
    },
    "papermill": {
     "duration": 0.019903,
     "end_time": "2023-10-17T13:00:09.375803",
     "exception": false,
     "start_time": "2023-10-17T13:00:09.355900",
     "status": "completed"
    },
    "tags": []
   },
   "outputs": [],
   "source": [
    "sci['x']"
   ]
  },
  {
   "cell_type": "code",
   "execution_count": null,
   "id": "dde051c1",
   "metadata": {
    "execution": {
     "iopub.execute_input": "2023-10-17T13:00:09.392136Z",
     "iopub.status.busy": "2023-10-17T13:00:09.391742Z",
     "iopub.status.idle": "2023-10-17T13:00:09.401457Z",
     "shell.execute_reply": "2023-10-17T13:00:09.400068Z"
    },
    "papermill": {
     "duration": 0.021399,
     "end_time": "2023-10-17T13:00:09.404837",
     "exception": false,
     "start_time": "2023-10-17T13:00:09.383438",
     "status": "completed"
    },
    "tags": []
   },
   "outputs": [],
   "source": [
    "sci[1:3]"
   ]
  },
  {
   "cell_type": "code",
   "execution_count": null,
   "id": "29465480",
   "metadata": {
    "execution": {
     "iopub.execute_input": "2023-10-17T13:00:09.422232Z",
     "iopub.status.busy": "2023-10-17T13:00:09.421872Z",
     "iopub.status.idle": "2023-10-17T13:00:09.430347Z",
     "shell.execute_reply": "2023-10-17T13:00:09.428748Z"
    },
    "papermill": {
     "duration": 0.020581,
     "end_time": "2023-10-17T13:00:09.433308",
     "exception": false,
     "start_time": "2023-10-17T13:00:09.412727",
     "status": "completed"
    },
    "tags": []
   },
   "outputs": [],
   "source": [
    "sci.sum()"
   ]
  },
  {
   "cell_type": "code",
   "execution_count": null,
   "id": "87f71017",
   "metadata": {
    "execution": {
     "iopub.execute_input": "2023-10-17T13:00:09.450800Z",
     "iopub.status.busy": "2023-10-17T13:00:09.450468Z",
     "iopub.status.idle": "2023-10-17T13:00:09.457231Z",
     "shell.execute_reply": "2023-10-17T13:00:09.456116Z"
    },
    "papermill": {
     "duration": 0.019193,
     "end_time": "2023-10-17T13:00:09.459824",
     "exception": false,
     "start_time": "2023-10-17T13:00:09.440631",
     "status": "completed"
    },
    "tags": []
   },
   "outputs": [],
   "source": [
    "sci.mean()"
   ]
  },
  {
   "cell_type": "markdown",
   "id": "01ba6907",
   "metadata": {
    "papermill": {
     "duration": 0.007348,
     "end_time": "2023-10-17T13:00:09.474281",
     "exception": false,
     "start_time": "2023-10-17T13:00:09.466933",
     "status": "completed"
    },
    "tags": []
   },
   "source": [
    "## Useful Operations"
   ]
  },
  {
   "cell_type": "code",
   "execution_count": null,
   "id": "e661f15e",
   "metadata": {
    "execution": {
     "iopub.execute_input": "2023-10-17T13:00:09.490612Z",
     "iopub.status.busy": "2023-10-17T13:00:09.490180Z",
     "iopub.status.idle": "2023-10-17T13:00:09.508326Z",
     "shell.execute_reply": "2023-10-17T13:00:09.506939Z"
    },
    "papermill": {
     "duration": 0.029455,
     "end_time": "2023-10-17T13:00:09.510883",
     "exception": false,
     "start_time": "2023-10-17T13:00:09.481428",
     "status": "completed"
    },
    "tags": []
   },
   "outputs": [],
   "source": [
    "sci.describe()"
   ]
  },
  {
   "cell_type": "markdown",
   "id": "1df6cdd7",
   "metadata": {
    "papermill": {
     "duration": 0.00751,
     "end_time": "2023-10-17T13:00:09.526494",
     "exception": false,
     "start_time": "2023-10-17T13:00:09.518984",
     "status": "completed"
    },
    "tags": []
   },
   "source": [
    "When you create a Pandas Series with custom index labels, you are essentially mapping the index labels to the data values. The index parameter allows you to specify custom labels instead of the default integer-based index.\n",
    "\n",
    "## Code Explanation:\n",
    "\n",
    "    sci = pd.Series([1, 2, 3, 4], index=['x', 'y', 'z', 'w'])\n",
    "\n",
    "- [1, 2, 3, 4]: These are the data values that you want in the Series.\n",
    "- index=['x', 'y', 'z', 'w']: These are the custom index labels that you specify.\n",
    "\n",
    "  x    1\n",
    "  y    2\n",
    "  z    3\n",
    "  w    4\n",
    "  dtype: int64\n",
    "  \n",
    "  \n",
    "  Key Points:\n",
    "\n",
    "    Data Values: 1, 2, 3, 4\n",
    "    Custom Index Labels: 'x', 'y', 'z', 'w'\n",
    "\n",
    "### What Does This Mean?\n",
    "\n",
    "    The value 1 is mapped to the index label x.\n",
    "    The value 2 is mapped to the index label y.\n",
    "    The value 3 is mapped to the index label z.\n",
    "    The value 4 is mapped to the index label w\n",
    "\n",
    "By using custom index labels, you can make your Series more readable and better aligned with the context of your data. You can also use these custom index labels for indexing, slicing, and other operations, much like you would with the default integer-based indices."
   ]
  },
  {
   "cell_type": "markdown",
   "id": "6fd81e14",
   "metadata": {
    "papermill": {
     "duration": 0.008242,
     "end_time": "2023-10-17T13:00:09.542983",
     "exception": false,
     "start_time": "2023-10-17T13:00:09.534741",
     "status": "completed"
    },
    "tags": []
   },
   "source": [
    "## Reading and Writing Data\n",
    "1. CSV (Comma-Separated Values)\n",
    "\n",
    "### Reading from CSV\n",
    "\n",
    "To read a CSV file and convert it into a DataFrame, you use the read_csv() function.\n",
    "\n",
    "Dataset source from [Kaggle](https://www.kaggle.com/datasets/nelgiriyewithana/top-spotify-songs-2023)"
   ]
  },
  {
   "cell_type": "code",
   "execution_count": null,
   "id": "dade5aa4",
   "metadata": {
    "execution": {
     "iopub.execute_input": "2023-10-17T13:00:09.561740Z",
     "iopub.status.busy": "2023-10-17T13:00:09.561403Z",
     "iopub.status.idle": "2023-10-17T13:00:09.592339Z",
     "shell.execute_reply": "2023-10-17T13:00:09.590116Z"
    },
    "papermill": {
     "duration": 0.043469,
     "end_time": "2023-10-17T13:00:09.595878",
     "exception": false,
     "start_time": "2023-10-17T13:00:09.552409",
     "status": "completed"
    },
    "tags": []
   },
   "outputs": [],
   "source": [
    "df_csv = pd.read_csv('spotify-2023.csv', encoding='ISO-8859-1')"
   ]
  },
  {
   "cell_type": "markdown",
   "id": "919ec03f",
   "metadata": {
    "papermill": {
     "duration": 0.007112,
     "end_time": "2023-10-17T13:00:09.611567",
     "exception": false,
     "start_time": "2023-10-17T13:00:09.604455",
     "status": "completed"
    },
    "tags": []
   },
   "source": [
    "If ISO-8859-1 does not work, and you are unsure of the file's encoding, you might use the chardet library to guess the encoding:"
   ]
  },
  {
   "cell_type": "code",
   "execution_count": null,
   "id": "184aa131",
   "metadata": {
    "execution": {
     "iopub.execute_input": "2023-10-17T13:00:09.630487Z",
     "iopub.status.busy": "2023-10-17T13:00:09.628834Z",
     "iopub.status.idle": "2023-10-17T13:00:20.761883Z",
     "shell.execute_reply": "2023-10-17T13:00:20.759104Z"
    },
    "papermill": {
     "duration": 11.145055,
     "end_time": "2023-10-17T13:00:20.764906",
     "exception": false,
     "start_time": "2023-10-17T13:00:09.619851",
     "status": "completed"
    },
    "tags": []
   },
   "outputs": [],
   "source": [
    "pip install chardet"
   ]
  },
  {
   "cell_type": "code",
   "execution_count": null,
   "id": "b3b0c435",
   "metadata": {
    "execution": {
     "iopub.execute_input": "2023-10-17T13:00:20.789584Z",
     "iopub.status.busy": "2023-10-17T13:00:20.789039Z",
     "iopub.status.idle": "2023-10-17T13:00:21.342064Z",
     "shell.execute_reply": "2023-10-17T13:00:21.339853Z"
    },
    "papermill": {
     "duration": 0.569264,
     "end_time": "2023-10-17T13:00:21.345796",
     "exception": false,
     "start_time": "2023-10-17T13:00:20.776532",
     "status": "completed"
    },
    "tags": []
   },
   "outputs": [],
   "source": [
    "import chardet\n",
    "\n",
    "rawdata = open('spotify-2023.csv', 'rb').read()\n",
    "result = chardet.detect(rawdata)\n",
    "encoding = result['encoding']\n",
    "\n",
    "df_csv = pd.read_csv('spotify-2023.csv', encoding=encoding)"
   ]
  },
  {
   "cell_type": "code",
   "execution_count": null,
   "id": "2702ef34",
   "metadata": {
    "execution": {
     "iopub.execute_input": "2023-10-17T13:00:21.369038Z",
     "iopub.status.busy": "2023-10-17T13:00:21.367984Z",
     "iopub.status.idle": "2023-10-17T13:00:21.410095Z",
     "shell.execute_reply": "2023-10-17T13:00:21.408962Z"
    },
    "papermill": {
     "duration": 0.056787,
     "end_time": "2023-10-17T13:00:21.412393",
     "exception": false,
     "start_time": "2023-10-17T13:00:21.355606",
     "status": "completed"
    },
    "tags": []
   },
   "outputs": [],
   "source": [
    "df_csv.head()"
   ]
  },
  {
   "cell_type": "code",
   "execution_count": null,
   "id": "084bdbee",
   "metadata": {
    "papermill": {
     "duration": 0.009358,
     "end_time": "2023-10-17T13:00:21.440145",
     "exception": false,
     "start_time": "2023-10-17T13:00:21.430787",
     "status": "completed"
    },
    "tags": []
   },
   "outputs": [],
   "source": [
    "df_csv.info()"
   ]
  },
  {
   "cell_type": "code",
   "execution_count": null,
   "id": "ee5efb31",
   "metadata": {},
   "outputs": [],
   "source": [
    "df_csv.describe()"
   ]
  }
 ],
 "metadata": {
  "kernelspec": {
   "display_name": "Python 3",
   "language": "python",
   "name": "python3"
  },
  "language_info": {
   "codemirror_mode": {
    "name": "ipython",
    "version": 3
   },
   "file_extension": ".py",
   "mimetype": "text/x-python",
   "name": "python",
   "nbconvert_exporter": "python",
   "pygments_lexer": "ipython3",
   "version": "3.11.4"
  },
  "papermill": {
   "default_parameters": {},
   "duration": 30.368423,
   "end_time": "2023-10-17T13:00:22.041339",
   "environment_variables": {},
   "exception": null,
   "input_path": "__notebook__.ipynb",
   "output_path": "__notebook__.ipynb",
   "parameters": {},
   "start_time": "2023-10-17T12:59:51.672916",
   "version": "2.4.0"
  }
 },
 "nbformat": 4,
 "nbformat_minor": 5
}
