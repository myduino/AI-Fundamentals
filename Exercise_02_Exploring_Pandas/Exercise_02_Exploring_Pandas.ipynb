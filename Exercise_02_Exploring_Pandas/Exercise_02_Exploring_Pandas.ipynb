{
 "cells": [
  {
   "cell_type": "markdown",
   "id": "8b1a8fa1",
   "metadata": {
    "papermill": {
     "duration": 0.00738,
     "end_time": "2023-10-17T12:59:55.009477",
     "exception": false,
     "start_time": "2023-10-17T12:59:55.002097",
     "status": "completed"
    },
    "tags": []
   },
   "source": [
    "# Exploring Pandas\n",
    "\n",
    "   1.  Introduction to Pandas\n",
    "   2.  Installing Pandas\n",
    "   3.  Basic Pandas Data Structures\n",
    "*         Series\n",
    "*         DataFrame\n",
    "   4.  Reading and Writing Data\n",
    "*       CSV\n",
    "*       Excel\n",
    "*       SQL\n",
    "   5.  Data Cleaning\n",
    "*         Handling Missing Values\n",
    "*         Dropping Columns/Rows\n",
    "   6.  Basic Operations\n",
    "*         Filtering\n",
    "*         Sorting\n",
    "*         Aggregating\n",
    "   7.  Data Transformation\n",
    "*         Merging\n",
    "*         Joining\n",
    "*         Reshaping\n",
    "   8.  Grouping and Aggregation\n",
    "   9.  Time-Series Data\n",
    "   10. Visualization in Pandas"
   ]
  },
  {
   "cell_type": "markdown",
   "id": "d587877c",
   "metadata": {
    "papermill": {
     "duration": 0.005535,
     "end_time": "2023-10-17T12:59:55.021647",
     "exception": false,
     "start_time": "2023-10-17T12:59:55.016112",
     "status": "completed"
    },
    "tags": []
   },
   "source": [
    "# 1. Introduction to Pandas\n",
    "\n",
    "Pandas is a fast, powerful, and flexible open-source library for data analysis and manipulation in Python."
   ]
  },
  {
   "cell_type": "markdown",
   "id": "6d6c62f1",
   "metadata": {
    "papermill": {
     "duration": 0.005656,
     "end_time": "2023-10-17T12:59:55.033469",
     "exception": false,
     "start_time": "2023-10-17T12:59:55.027813",
     "status": "completed"
    },
    "tags": []
   },
   "source": [
    "# 2. Installing Pandas"
   ]
  },
  {
   "cell_type": "code",
   "execution_count": 1,
   "id": "d4d3f20e",
   "metadata": {
    "execution": {
     "iopub.execute_input": "2023-10-17T12:59:55.047979Z",
     "iopub.status.busy": "2023-10-17T12:59:55.047467Z",
     "iopub.status.idle": "2023-10-17T13:00:08.569859Z",
     "shell.execute_reply": "2023-10-17T13:00:08.566883Z"
    },
    "papermill": {
     "duration": 13.534,
     "end_time": "2023-10-17T13:00:08.573140",
     "exception": false,
     "start_time": "2023-10-17T12:59:55.039140",
     "status": "completed"
    },
    "tags": []
   },
   "outputs": [
    {
     "name": "stdout",
     "output_type": "stream",
     "text": [
      "Requirement already satisfied: pandas in /Library/Frameworks/Python.framework/Versions/3.11/lib/python3.11/site-packages (1.5.3)\n",
      "Requirement already satisfied: python-dateutil>=2.8.1 in /Library/Frameworks/Python.framework/Versions/3.11/lib/python3.11/site-packages (from pandas) (2.9.0.post0)\n",
      "Requirement already satisfied: pytz>=2020.1 in /Library/Frameworks/Python.framework/Versions/3.11/lib/python3.11/site-packages (from pandas) (2022.7.1)\n",
      "Requirement already satisfied: numpy>=1.21.0 in /Library/Frameworks/Python.framework/Versions/3.11/lib/python3.11/site-packages (from pandas) (1.24.3)\n",
      "Requirement already satisfied: six>=1.5 in /Library/Frameworks/Python.framework/Versions/3.11/lib/python3.11/site-packages (from python-dateutil>=2.8.1->pandas) (1.16.0)\n",
      "\n",
      "\u001b[1m[\u001b[0m\u001b[34;49mnotice\u001b[0m\u001b[1;39;49m]\u001b[0m\u001b[39;49m A new release of pip is available: \u001b[0m\u001b[31;49m24.0\u001b[0m\u001b[39;49m -> \u001b[0m\u001b[32;49m24.1.2\u001b[0m\n",
      "\u001b[1m[\u001b[0m\u001b[34;49mnotice\u001b[0m\u001b[1;39;49m]\u001b[0m\u001b[39;49m To update, run: \u001b[0m\u001b[32;49mpython3 -m pip install --upgrade pip\u001b[0m\n",
      "Note: you may need to restart the kernel to use updated packages.\n"
     ]
    }
   ],
   "source": [
    "pip install pandas"
   ]
  },
  {
   "cell_type": "code",
   "execution_count": 4,
   "id": "75e26bca",
   "metadata": {
    "execution": {
     "iopub.execute_input": "2023-10-17T13:00:08.589716Z",
     "iopub.status.busy": "2023-10-17T13:00:08.589317Z",
     "iopub.status.idle": "2023-10-17T13:00:09.028088Z",
     "shell.execute_reply": "2023-10-17T13:00:09.026772Z"
    },
    "papermill": {
     "duration": 0.451627,
     "end_time": "2023-10-17T13:00:09.032547",
     "exception": false,
     "start_time": "2023-10-17T13:00:08.580920",
     "status": "completed"
    },
    "tags": []
   },
   "outputs": [],
   "source": [
    "import pandas as pd"
   ]
  },
  {
   "cell_type": "markdown",
   "id": "46f05bed",
   "metadata": {
    "papermill": {
     "duration": 0.006962,
     "end_time": "2023-10-17T13:00:09.046850",
     "exception": false,
     "start_time": "2023-10-17T13:00:09.039888",
     "status": "completed"
    },
    "tags": []
   },
   "source": [
    "# 3. Basic Pandas Data Structures\n",
    "\n",
    "### Series\n",
    "\n",
    "* A Series is a one-dimensional labeled array capable of holding any data type.\n",
    "\n",
    "### Key Features:\n",
    "\n",
    "    1. Labels: Known as index\n",
    "    2. Data: Can be integer, float, string, etc.\n",
    "    \n",
    "    \n",
    " \n",
    " \n",
    "### **Creating a Series:**\n",
    " You can create a series from a list, NumPy array, or dictionary.\n",
    "   "
   ]
  },
  {
   "cell_type": "code",
   "execution_count": 5,
   "id": "60dc02bc",
   "metadata": {
    "execution": {
     "iopub.execute_input": "2023-10-17T13:00:09.065114Z",
     "iopub.status.busy": "2023-10-17T13:00:09.063733Z",
     "iopub.status.idle": "2023-10-17T13:00:09.073141Z",
     "shell.execute_reply": "2023-10-17T13:00:09.071481Z"
    },
    "papermill": {
     "duration": 0.020173,
     "end_time": "2023-10-17T13:00:09.075764",
     "exception": false,
     "start_time": "2023-10-17T13:00:09.055591",
     "status": "completed"
    },
    "tags": []
   },
   "outputs": [],
   "source": [
    "# From a List\n",
    "sl = pd.Series([1,2,3,4])"
   ]
  },
  {
   "cell_type": "code",
   "execution_count": 6,
   "id": "470dbd42",
   "metadata": {
    "execution": {
     "iopub.execute_input": "2023-10-17T13:00:09.090701Z",
     "iopub.status.busy": "2023-10-17T13:00:09.089967Z",
     "iopub.status.idle": "2023-10-17T13:00:09.097354Z",
     "shell.execute_reply": "2023-10-17T13:00:09.095840Z"
    },
    "papermill": {
     "duration": 0.017863,
     "end_time": "2023-10-17T13:00:09.100287",
     "exception": false,
     "start_time": "2023-10-17T13:00:09.082424",
     "status": "completed"
    },
    "tags": []
   },
   "outputs": [],
   "source": [
    "# From a Dictionary\n",
    "sd = pd.Series({'a': 1, 'b':2, 'c':3})"
   ]
  },
  {
   "cell_type": "markdown",
   "id": "5092b4cf",
   "metadata": {
    "papermill": {
     "duration": 0.007478,
     "end_time": "2023-10-17T13:00:09.116722",
     "exception": false,
     "start_time": "2023-10-17T13:00:09.109244",
     "status": "completed"
    },
    "tags": []
   },
   "source": [
    "# Operations:\n"
   ]
  },
  {
   "cell_type": "markdown",
   "id": "72f7c9ad",
   "metadata": {
    "papermill": {
     "duration": 0.007104,
     "end_time": "2023-10-17T13:00:09.133907",
     "exception": false,
     "start_time": "2023-10-17T13:00:09.126803",
     "status": "completed"
    },
    "tags": []
   },
   "source": [
    "### Indexing"
   ]
  },
  {
   "cell_type": "code",
   "execution_count": 7,
   "id": "d2092b78",
   "metadata": {
    "execution": {
     "iopub.execute_input": "2023-10-17T13:00:09.151560Z",
     "iopub.status.busy": "2023-10-17T13:00:09.151111Z",
     "iopub.status.idle": "2023-10-17T13:00:09.161924Z",
     "shell.execute_reply": "2023-10-17T13:00:09.159946Z"
    },
    "papermill": {
     "duration": 0.023103,
     "end_time": "2023-10-17T13:00:09.165022",
     "exception": false,
     "start_time": "2023-10-17T13:00:09.141919",
     "status": "completed"
    },
    "tags": []
   },
   "outputs": [
    {
     "data": {
      "text/plain": [
       "1"
      ]
     },
     "execution_count": 7,
     "metadata": {},
     "output_type": "execute_result"
    }
   ],
   "source": [
    "sl[0]"
   ]
  },
  {
   "cell_type": "code",
   "execution_count": 8,
   "id": "462be06f",
   "metadata": {
    "execution": {
     "iopub.execute_input": "2023-10-17T13:00:09.179647Z",
     "iopub.status.busy": "2023-10-17T13:00:09.179291Z",
     "iopub.status.idle": "2023-10-17T13:00:09.193442Z",
     "shell.execute_reply": "2023-10-17T13:00:09.191696Z"
    },
    "papermill": {
     "duration": 0.024219,
     "end_time": "2023-10-17T13:00:09.195749",
     "exception": false,
     "start_time": "2023-10-17T13:00:09.171530",
     "status": "completed"
    },
    "tags": []
   },
   "outputs": [
    {
     "data": {
      "text/plain": [
       "2"
      ]
     },
     "execution_count": 8,
     "metadata": {},
     "output_type": "execute_result"
    }
   ],
   "source": [
    "sd['b']"
   ]
  },
  {
   "cell_type": "markdown",
   "id": "5683ee36",
   "metadata": {
    "papermill": {
     "duration": 0.007936,
     "end_time": "2023-10-17T13:00:09.210416",
     "exception": false,
     "start_time": "2023-10-17T13:00:09.202480",
     "status": "completed"
    },
    "tags": []
   },
   "source": [
    "### Slicing"
   ]
  },
  {
   "cell_type": "code",
   "execution_count": 9,
   "id": "fc5a2c93",
   "metadata": {
    "execution": {
     "iopub.execute_input": "2023-10-17T13:00:09.229020Z",
     "iopub.status.busy": "2023-10-17T13:00:09.228521Z",
     "iopub.status.idle": "2023-10-17T13:00:09.240648Z",
     "shell.execute_reply": "2023-10-17T13:00:09.238399Z"
    },
    "papermill": {
     "duration": 0.025875,
     "end_time": "2023-10-17T13:00:09.244769",
     "exception": false,
     "start_time": "2023-10-17T13:00:09.218894",
     "status": "completed"
    },
    "tags": []
   },
   "outputs": [
    {
     "data": {
      "text/plain": [
       "1    2\n",
       "2    3\n",
       "dtype: int64"
      ]
     },
     "execution_count": 9,
     "metadata": {},
     "output_type": "execute_result"
    }
   ],
   "source": [
    "sl[1:3]"
   ]
  },
  {
   "cell_type": "code",
   "execution_count": 10,
   "id": "944b6938",
   "metadata": {
    "execution": {
     "iopub.execute_input": "2023-10-17T13:00:09.262074Z",
     "iopub.status.busy": "2023-10-17T13:00:09.261627Z",
     "iopub.status.idle": "2023-10-17T13:00:09.272220Z",
     "shell.execute_reply": "2023-10-17T13:00:09.270466Z"
    },
    "papermill": {
     "duration": 0.023146,
     "end_time": "2023-10-17T13:00:09.275464",
     "exception": false,
     "start_time": "2023-10-17T13:00:09.252318",
     "status": "completed"
    },
    "tags": []
   },
   "outputs": [
    {
     "data": {
      "text/plain": [
       "10"
      ]
     },
     "execution_count": 10,
     "metadata": {},
     "output_type": "execute_result"
    }
   ],
   "source": [
    "sl.sum()"
   ]
  },
  {
   "cell_type": "code",
   "execution_count": 11,
   "id": "27de4630",
   "metadata": {
    "execution": {
     "iopub.execute_input": "2023-10-17T13:00:09.294131Z",
     "iopub.status.busy": "2023-10-17T13:00:09.293628Z",
     "iopub.status.idle": "2023-10-17T13:00:09.299911Z",
     "shell.execute_reply": "2023-10-17T13:00:09.299098Z"
    },
    "papermill": {
     "duration": 0.017462,
     "end_time": "2023-10-17T13:00:09.302578",
     "exception": false,
     "start_time": "2023-10-17T13:00:09.285116",
     "status": "completed"
    },
    "tags": []
   },
   "outputs": [
    {
     "data": {
      "text/plain": [
       "6"
      ]
     },
     "execution_count": 11,
     "metadata": {},
     "output_type": "execute_result"
    }
   ],
   "source": [
    "sd.sum()"
   ]
  },
  {
   "cell_type": "markdown",
   "id": "d34540d6",
   "metadata": {
    "papermill": {
     "duration": 0.007448,
     "end_time": "2023-10-17T13:00:09.318024",
     "exception": false,
     "start_time": "2023-10-17T13:00:09.310576",
     "status": "completed"
    },
    "tags": []
   },
   "source": [
    "### Custom Index"
   ]
  },
  {
   "cell_type": "code",
   "execution_count": 12,
   "id": "18844aa9",
   "metadata": {
    "execution": {
     "iopub.execute_input": "2023-10-17T13:00:09.337022Z",
     "iopub.status.busy": "2023-10-17T13:00:09.336496Z",
     "iopub.status.idle": "2023-10-17T13:00:09.344695Z",
     "shell.execute_reply": "2023-10-17T13:00:09.342927Z"
    },
    "papermill": {
     "duration": 0.021962,
     "end_time": "2023-10-17T13:00:09.348039",
     "exception": false,
     "start_time": "2023-10-17T13:00:09.326077",
     "status": "completed"
    },
    "tags": []
   },
   "outputs": [],
   "source": [
    "sci = pd.Series([1,2,3,4], index = ['x','y','z','w'])"
   ]
  },
  {
   "cell_type": "code",
   "execution_count": 13,
   "id": "8121ceb9",
   "metadata": {
    "execution": {
     "iopub.execute_input": "2023-10-17T13:00:09.364855Z",
     "iopub.status.busy": "2023-10-17T13:00:09.364496Z",
     "iopub.status.idle": "2023-10-17T13:00:09.372976Z",
     "shell.execute_reply": "2023-10-17T13:00:09.371682Z"
    },
    "papermill": {
     "duration": 0.019903,
     "end_time": "2023-10-17T13:00:09.375803",
     "exception": false,
     "start_time": "2023-10-17T13:00:09.355900",
     "status": "completed"
    },
    "tags": []
   },
   "outputs": [
    {
     "data": {
      "text/plain": [
       "1"
      ]
     },
     "execution_count": 13,
     "metadata": {},
     "output_type": "execute_result"
    }
   ],
   "source": [
    "sci['x']"
   ]
  },
  {
   "cell_type": "code",
   "execution_count": 14,
   "id": "dde051c1",
   "metadata": {
    "execution": {
     "iopub.execute_input": "2023-10-17T13:00:09.392136Z",
     "iopub.status.busy": "2023-10-17T13:00:09.391742Z",
     "iopub.status.idle": "2023-10-17T13:00:09.401457Z",
     "shell.execute_reply": "2023-10-17T13:00:09.400068Z"
    },
    "papermill": {
     "duration": 0.021399,
     "end_time": "2023-10-17T13:00:09.404837",
     "exception": false,
     "start_time": "2023-10-17T13:00:09.383438",
     "status": "completed"
    },
    "tags": []
   },
   "outputs": [
    {
     "data": {
      "text/plain": [
       "y    2\n",
       "z    3\n",
       "dtype: int64"
      ]
     },
     "execution_count": 14,
     "metadata": {},
     "output_type": "execute_result"
    }
   ],
   "source": [
    "sci[1:3]"
   ]
  },
  {
   "cell_type": "code",
   "execution_count": 15,
   "id": "29465480",
   "metadata": {
    "execution": {
     "iopub.execute_input": "2023-10-17T13:00:09.422232Z",
     "iopub.status.busy": "2023-10-17T13:00:09.421872Z",
     "iopub.status.idle": "2023-10-17T13:00:09.430347Z",
     "shell.execute_reply": "2023-10-17T13:00:09.428748Z"
    },
    "papermill": {
     "duration": 0.020581,
     "end_time": "2023-10-17T13:00:09.433308",
     "exception": false,
     "start_time": "2023-10-17T13:00:09.412727",
     "status": "completed"
    },
    "tags": []
   },
   "outputs": [
    {
     "data": {
      "text/plain": [
       "10"
      ]
     },
     "execution_count": 15,
     "metadata": {},
     "output_type": "execute_result"
    }
   ],
   "source": [
    "sci.sum()"
   ]
  },
  {
   "cell_type": "code",
   "execution_count": 16,
   "id": "87f71017",
   "metadata": {
    "execution": {
     "iopub.execute_input": "2023-10-17T13:00:09.450800Z",
     "iopub.status.busy": "2023-10-17T13:00:09.450468Z",
     "iopub.status.idle": "2023-10-17T13:00:09.457231Z",
     "shell.execute_reply": "2023-10-17T13:00:09.456116Z"
    },
    "papermill": {
     "duration": 0.019193,
     "end_time": "2023-10-17T13:00:09.459824",
     "exception": false,
     "start_time": "2023-10-17T13:00:09.440631",
     "status": "completed"
    },
    "tags": []
   },
   "outputs": [
    {
     "data": {
      "text/plain": [
       "2.5"
      ]
     },
     "execution_count": 16,
     "metadata": {},
     "output_type": "execute_result"
    }
   ],
   "source": [
    "sci.mean()"
   ]
  },
  {
   "cell_type": "markdown",
   "id": "01ba6907",
   "metadata": {
    "papermill": {
     "duration": 0.007348,
     "end_time": "2023-10-17T13:00:09.474281",
     "exception": false,
     "start_time": "2023-10-17T13:00:09.466933",
     "status": "completed"
    },
    "tags": []
   },
   "source": [
    "## Useful Operations"
   ]
  },
  {
   "cell_type": "code",
   "execution_count": 17,
   "id": "e661f15e",
   "metadata": {
    "execution": {
     "iopub.execute_input": "2023-10-17T13:00:09.490612Z",
     "iopub.status.busy": "2023-10-17T13:00:09.490180Z",
     "iopub.status.idle": "2023-10-17T13:00:09.508326Z",
     "shell.execute_reply": "2023-10-17T13:00:09.506939Z"
    },
    "papermill": {
     "duration": 0.029455,
     "end_time": "2023-10-17T13:00:09.510883",
     "exception": false,
     "start_time": "2023-10-17T13:00:09.481428",
     "status": "completed"
    },
    "tags": []
   },
   "outputs": [
    {
     "data": {
      "text/plain": [
       "count    4.000000\n",
       "mean     2.500000\n",
       "std      1.290994\n",
       "min      1.000000\n",
       "25%      1.750000\n",
       "50%      2.500000\n",
       "75%      3.250000\n",
       "max      4.000000\n",
       "dtype: float64"
      ]
     },
     "execution_count": 17,
     "metadata": {},
     "output_type": "execute_result"
    }
   ],
   "source": [
    "sci.describe()"
   ]
  },
  {
   "cell_type": "markdown",
   "id": "1df6cdd7",
   "metadata": {
    "papermill": {
     "duration": 0.00751,
     "end_time": "2023-10-17T13:00:09.526494",
     "exception": false,
     "start_time": "2023-10-17T13:00:09.518984",
     "status": "completed"
    },
    "tags": []
   },
   "source": [
    "When you create a Pandas Series with custom index labels, you are essentially mapping the index labels to the data values. The index parameter allows you to specify custom labels instead of the default integer-based index.\n",
    "\n",
    "## Code Explanation:\n",
    "\n",
    "    sci = pd.Series([1, 2, 3, 4], index=['x', 'y', 'z', 'w'])\n",
    "\n",
    "- [1, 2, 3, 4]: These are the data values that you want in the Series.\n",
    "- index=['x', 'y', 'z', 'w']: These are the custom index labels that you specify.\n",
    "\n",
    "  x    1\n",
    "  y    2\n",
    "  z    3\n",
    "  w    4\n",
    "  dtype: int64\n",
    "  \n",
    "  \n",
    "  Key Points:\n",
    "\n",
    "    Data Values: 1, 2, 3, 4\n",
    "    Custom Index Labels: 'x', 'y', 'z', 'w'\n",
    "\n",
    "### What Does This Mean?\n",
    "\n",
    "    The value 1 is mapped to the index label x.\n",
    "    The value 2 is mapped to the index label y.\n",
    "    The value 3 is mapped to the index label z.\n",
    "    The value 4 is mapped to the index label w\n",
    "\n",
    "By using custom index labels, you can make your Series more readable and better aligned with the context of your data. You can also use these custom index labels for indexing, slicing, and other operations, much like you would with the default integer-based indices."
   ]
  },
  {
   "cell_type": "markdown",
   "id": "6fd81e14",
   "metadata": {
    "papermill": {
     "duration": 0.008242,
     "end_time": "2023-10-17T13:00:09.542983",
     "exception": false,
     "start_time": "2023-10-17T13:00:09.534741",
     "status": "completed"
    },
    "tags": []
   },
   "source": [
    "## Reading and Writing Data\n",
    "1. CSV (Comma-Separated Values)\n",
    "\n",
    "### Reading from CSV\n",
    "\n",
    "To read a CSV file and convert it into a DataFrame, you use the read_csv() function.\n",
    "\n",
    "Dataset source from [Kaggle](https://www.kaggle.com/datasets/nelgiriyewithana/top-spotify-songs-2023)"
   ]
  },
  {
   "cell_type": "code",
   "execution_count": 18,
   "id": "dade5aa4",
   "metadata": {
    "execution": {
     "iopub.execute_input": "2023-10-17T13:00:09.561740Z",
     "iopub.status.busy": "2023-10-17T13:00:09.561403Z",
     "iopub.status.idle": "2023-10-17T13:00:09.592339Z",
     "shell.execute_reply": "2023-10-17T13:00:09.590116Z"
    },
    "papermill": {
     "duration": 0.043469,
     "end_time": "2023-10-17T13:00:09.595878",
     "exception": false,
     "start_time": "2023-10-17T13:00:09.552409",
     "status": "completed"
    },
    "tags": []
   },
   "outputs": [],
   "source": [
    "df_csv = pd.read_csv('spotify-2023.csv', encoding='ISO-8859-1')"
   ]
  },
  {
   "cell_type": "markdown",
   "id": "919ec03f",
   "metadata": {
    "papermill": {
     "duration": 0.007112,
     "end_time": "2023-10-17T13:00:09.611567",
     "exception": false,
     "start_time": "2023-10-17T13:00:09.604455",
     "status": "completed"
    },
    "tags": []
   },
   "source": [
    "If ISO-8859-1 does not work, and you are unsure of the file's encoding, you might use the chardet library to guess the encoding:"
   ]
  },
  {
   "cell_type": "code",
   "execution_count": null,
   "id": "184aa131",
   "metadata": {
    "execution": {
     "iopub.execute_input": "2023-10-17T13:00:09.630487Z",
     "iopub.status.busy": "2023-10-17T13:00:09.628834Z",
     "iopub.status.idle": "2023-10-17T13:00:20.761883Z",
     "shell.execute_reply": "2023-10-17T13:00:20.759104Z"
    },
    "papermill": {
     "duration": 11.145055,
     "end_time": "2023-10-17T13:00:20.764906",
     "exception": false,
     "start_time": "2023-10-17T13:00:09.619851",
     "status": "completed"
    },
    "tags": []
   },
   "outputs": [],
   "source": [
    "pip install chardet"
   ]
  },
  {
   "cell_type": "code",
   "execution_count": null,
   "id": "b3b0c435",
   "metadata": {
    "execution": {
     "iopub.execute_input": "2023-10-17T13:00:20.789584Z",
     "iopub.status.busy": "2023-10-17T13:00:20.789039Z",
     "iopub.status.idle": "2023-10-17T13:00:21.342064Z",
     "shell.execute_reply": "2023-10-17T13:00:21.339853Z"
    },
    "papermill": {
     "duration": 0.569264,
     "end_time": "2023-10-17T13:00:21.345796",
     "exception": false,
     "start_time": "2023-10-17T13:00:20.776532",
     "status": "completed"
    },
    "tags": []
   },
   "outputs": [],
   "source": [
    "import chardet\n",
    "\n",
    "rawdata = open('spotify-2023.csv', 'rb').read()\n",
    "result = chardet.detect(rawdata)\n",
    "encoding = result['encoding']\n",
    "\n",
    "df_csv = pd.read_csv('spotify-2023.csv', encoding=encoding)"
   ]
  },
  {
   "cell_type": "code",
   "execution_count": 19,
   "id": "2702ef34",
   "metadata": {
    "execution": {
     "iopub.execute_input": "2023-10-17T13:00:21.369038Z",
     "iopub.status.busy": "2023-10-17T13:00:21.367984Z",
     "iopub.status.idle": "2023-10-17T13:00:21.410095Z",
     "shell.execute_reply": "2023-10-17T13:00:21.408962Z"
    },
    "papermill": {
     "duration": 0.056787,
     "end_time": "2023-10-17T13:00:21.412393",
     "exception": false,
     "start_time": "2023-10-17T13:00:21.355606",
     "status": "completed"
    },
    "tags": []
   },
   "outputs": [
    {
     "data": {
      "text/html": [
       "<div>\n",
       "<style scoped>\n",
       "    .dataframe tbody tr th:only-of-type {\n",
       "        vertical-align: middle;\n",
       "    }\n",
       "\n",
       "    .dataframe tbody tr th {\n",
       "        vertical-align: top;\n",
       "    }\n",
       "\n",
       "    .dataframe thead th {\n",
       "        text-align: right;\n",
       "    }\n",
       "</style>\n",
       "<table border=\"1\" class=\"dataframe\">\n",
       "  <thead>\n",
       "    <tr style=\"text-align: right;\">\n",
       "      <th></th>\n",
       "      <th>track_name</th>\n",
       "      <th>artist(s)_name</th>\n",
       "      <th>artist_count</th>\n",
       "      <th>released_year</th>\n",
       "      <th>released_month</th>\n",
       "      <th>released_day</th>\n",
       "      <th>in_spotify_playlists</th>\n",
       "      <th>in_spotify_charts</th>\n",
       "      <th>streams</th>\n",
       "      <th>in_apple_playlists</th>\n",
       "      <th>...</th>\n",
       "      <th>bpm</th>\n",
       "      <th>key</th>\n",
       "      <th>mode</th>\n",
       "      <th>danceability_%</th>\n",
       "      <th>valence_%</th>\n",
       "      <th>energy_%</th>\n",
       "      <th>acousticness_%</th>\n",
       "      <th>instrumentalness_%</th>\n",
       "      <th>liveness_%</th>\n",
       "      <th>speechiness_%</th>\n",
       "    </tr>\n",
       "  </thead>\n",
       "  <tbody>\n",
       "    <tr>\n",
       "      <th>0</th>\n",
       "      <td>Seven (feat. Latto) (Explicit Ver.)</td>\n",
       "      <td>Latto, Jung Kook</td>\n",
       "      <td>2</td>\n",
       "      <td>2023</td>\n",
       "      <td>7</td>\n",
       "      <td>14</td>\n",
       "      <td>553</td>\n",
       "      <td>147</td>\n",
       "      <td>141381703</td>\n",
       "      <td>43</td>\n",
       "      <td>...</td>\n",
       "      <td>125</td>\n",
       "      <td>B</td>\n",
       "      <td>Major</td>\n",
       "      <td>80</td>\n",
       "      <td>89</td>\n",
       "      <td>83</td>\n",
       "      <td>31</td>\n",
       "      <td>0</td>\n",
       "      <td>8</td>\n",
       "      <td>4</td>\n",
       "    </tr>\n",
       "    <tr>\n",
       "      <th>1</th>\n",
       "      <td>LALA</td>\n",
       "      <td>Myke Towers</td>\n",
       "      <td>1</td>\n",
       "      <td>2023</td>\n",
       "      <td>3</td>\n",
       "      <td>23</td>\n",
       "      <td>1474</td>\n",
       "      <td>48</td>\n",
       "      <td>133716286</td>\n",
       "      <td>48</td>\n",
       "      <td>...</td>\n",
       "      <td>92</td>\n",
       "      <td>C#</td>\n",
       "      <td>Major</td>\n",
       "      <td>71</td>\n",
       "      <td>61</td>\n",
       "      <td>74</td>\n",
       "      <td>7</td>\n",
       "      <td>0</td>\n",
       "      <td>10</td>\n",
       "      <td>4</td>\n",
       "    </tr>\n",
       "    <tr>\n",
       "      <th>2</th>\n",
       "      <td>vampire</td>\n",
       "      <td>Olivia Rodrigo</td>\n",
       "      <td>1</td>\n",
       "      <td>2023</td>\n",
       "      <td>6</td>\n",
       "      <td>30</td>\n",
       "      <td>1397</td>\n",
       "      <td>113</td>\n",
       "      <td>140003974</td>\n",
       "      <td>94</td>\n",
       "      <td>...</td>\n",
       "      <td>138</td>\n",
       "      <td>F</td>\n",
       "      <td>Major</td>\n",
       "      <td>51</td>\n",
       "      <td>32</td>\n",
       "      <td>53</td>\n",
       "      <td>17</td>\n",
       "      <td>0</td>\n",
       "      <td>31</td>\n",
       "      <td>6</td>\n",
       "    </tr>\n",
       "    <tr>\n",
       "      <th>3</th>\n",
       "      <td>Cruel Summer</td>\n",
       "      <td>Taylor Swift</td>\n",
       "      <td>1</td>\n",
       "      <td>2019</td>\n",
       "      <td>8</td>\n",
       "      <td>23</td>\n",
       "      <td>7858</td>\n",
       "      <td>100</td>\n",
       "      <td>800840817</td>\n",
       "      <td>116</td>\n",
       "      <td>...</td>\n",
       "      <td>170</td>\n",
       "      <td>A</td>\n",
       "      <td>Major</td>\n",
       "      <td>55</td>\n",
       "      <td>58</td>\n",
       "      <td>72</td>\n",
       "      <td>11</td>\n",
       "      <td>0</td>\n",
       "      <td>11</td>\n",
       "      <td>15</td>\n",
       "    </tr>\n",
       "    <tr>\n",
       "      <th>4</th>\n",
       "      <td>WHERE SHE GOES</td>\n",
       "      <td>Bad Bunny</td>\n",
       "      <td>1</td>\n",
       "      <td>2023</td>\n",
       "      <td>5</td>\n",
       "      <td>18</td>\n",
       "      <td>3133</td>\n",
       "      <td>50</td>\n",
       "      <td>303236322</td>\n",
       "      <td>84</td>\n",
       "      <td>...</td>\n",
       "      <td>144</td>\n",
       "      <td>A</td>\n",
       "      <td>Minor</td>\n",
       "      <td>65</td>\n",
       "      <td>23</td>\n",
       "      <td>80</td>\n",
       "      <td>14</td>\n",
       "      <td>63</td>\n",
       "      <td>11</td>\n",
       "      <td>6</td>\n",
       "    </tr>\n",
       "  </tbody>\n",
       "</table>\n",
       "<p>5 rows × 24 columns</p>\n",
       "</div>"
      ],
      "text/plain": [
       "                            track_name    artist(s)_name  artist_count  \\\n",
       "0  Seven (feat. Latto) (Explicit Ver.)  Latto, Jung Kook             2   \n",
       "1                                 LALA       Myke Towers             1   \n",
       "2                              vampire    Olivia Rodrigo             1   \n",
       "3                         Cruel Summer      Taylor Swift             1   \n",
       "4                       WHERE SHE GOES         Bad Bunny             1   \n",
       "\n",
       "   released_year  released_month  released_day  in_spotify_playlists  \\\n",
       "0           2023               7            14                   553   \n",
       "1           2023               3            23                  1474   \n",
       "2           2023               6            30                  1397   \n",
       "3           2019               8            23                  7858   \n",
       "4           2023               5            18                  3133   \n",
       "\n",
       "   in_spotify_charts    streams  in_apple_playlists  ...  bpm key   mode  \\\n",
       "0                147  141381703                  43  ...  125   B  Major   \n",
       "1                 48  133716286                  48  ...   92  C#  Major   \n",
       "2                113  140003974                  94  ...  138   F  Major   \n",
       "3                100  800840817                 116  ...  170   A  Major   \n",
       "4                 50  303236322                  84  ...  144   A  Minor   \n",
       "\n",
       "  danceability_%  valence_% energy_% acousticness_%  instrumentalness_%  \\\n",
       "0             80         89       83             31                   0   \n",
       "1             71         61       74              7                   0   \n",
       "2             51         32       53             17                   0   \n",
       "3             55         58       72             11                   0   \n",
       "4             65         23       80             14                  63   \n",
       "\n",
       "   liveness_%  speechiness_%  \n",
       "0           8              4  \n",
       "1          10              4  \n",
       "2          31              6  \n",
       "3          11             15  \n",
       "4          11              6  \n",
       "\n",
       "[5 rows x 24 columns]"
      ]
     },
     "execution_count": 19,
     "metadata": {},
     "output_type": "execute_result"
    }
   ],
   "source": [
    "df_csv.head()"
   ]
  },
  {
   "cell_type": "code",
   "execution_count": 20,
   "id": "084bdbee",
   "metadata": {
    "papermill": {
     "duration": 0.009358,
     "end_time": "2023-10-17T13:00:21.440145",
     "exception": false,
     "start_time": "2023-10-17T13:00:21.430787",
     "status": "completed"
    },
    "tags": []
   },
   "outputs": [
    {
     "name": "stdout",
     "output_type": "stream",
     "text": [
      "<class 'pandas.core.frame.DataFrame'>\n",
      "RangeIndex: 953 entries, 0 to 952\n",
      "Data columns (total 24 columns):\n",
      " #   Column                Non-Null Count  Dtype \n",
      "---  ------                --------------  ----- \n",
      " 0   track_name            953 non-null    object\n",
      " 1   artist(s)_name        953 non-null    object\n",
      " 2   artist_count          953 non-null    int64 \n",
      " 3   released_year         953 non-null    int64 \n",
      " 4   released_month        953 non-null    int64 \n",
      " 5   released_day          953 non-null    int64 \n",
      " 6   in_spotify_playlists  953 non-null    int64 \n",
      " 7   in_spotify_charts     953 non-null    int64 \n",
      " 8   streams               953 non-null    object\n",
      " 9   in_apple_playlists    953 non-null    int64 \n",
      " 10  in_apple_charts       953 non-null    int64 \n",
      " 11  in_deezer_playlists   953 non-null    object\n",
      " 12  in_deezer_charts      953 non-null    int64 \n",
      " 13  in_shazam_charts      903 non-null    object\n",
      " 14  bpm                   953 non-null    int64 \n",
      " 15  key                   858 non-null    object\n",
      " 16  mode                  953 non-null    object\n",
      " 17  danceability_%        953 non-null    int64 \n",
      " 18  valence_%             953 non-null    int64 \n",
      " 19  energy_%              953 non-null    int64 \n",
      " 20  acousticness_%        953 non-null    int64 \n",
      " 21  instrumentalness_%    953 non-null    int64 \n",
      " 22  liveness_%            953 non-null    int64 \n",
      " 23  speechiness_%         953 non-null    int64 \n",
      "dtypes: int64(17), object(7)\n",
      "memory usage: 178.8+ KB\n"
     ]
    }
   ],
   "source": [
    "df_csv.info()"
   ]
  },
  {
   "cell_type": "code",
   "execution_count": 21,
   "id": "ee5efb31",
   "metadata": {},
   "outputs": [
    {
     "data": {
      "text/html": [
       "<div>\n",
       "<style scoped>\n",
       "    .dataframe tbody tr th:only-of-type {\n",
       "        vertical-align: middle;\n",
       "    }\n",
       "\n",
       "    .dataframe tbody tr th {\n",
       "        vertical-align: top;\n",
       "    }\n",
       "\n",
       "    .dataframe thead th {\n",
       "        text-align: right;\n",
       "    }\n",
       "</style>\n",
       "<table border=\"1\" class=\"dataframe\">\n",
       "  <thead>\n",
       "    <tr style=\"text-align: right;\">\n",
       "      <th></th>\n",
       "      <th>artist_count</th>\n",
       "      <th>released_year</th>\n",
       "      <th>released_month</th>\n",
       "      <th>released_day</th>\n",
       "      <th>in_spotify_playlists</th>\n",
       "      <th>in_spotify_charts</th>\n",
       "      <th>in_apple_playlists</th>\n",
       "      <th>in_apple_charts</th>\n",
       "      <th>in_deezer_charts</th>\n",
       "      <th>bpm</th>\n",
       "      <th>danceability_%</th>\n",
       "      <th>valence_%</th>\n",
       "      <th>energy_%</th>\n",
       "      <th>acousticness_%</th>\n",
       "      <th>instrumentalness_%</th>\n",
       "      <th>liveness_%</th>\n",
       "      <th>speechiness_%</th>\n",
       "    </tr>\n",
       "  </thead>\n",
       "  <tbody>\n",
       "    <tr>\n",
       "      <th>count</th>\n",
       "      <td>953.000000</td>\n",
       "      <td>953.000000</td>\n",
       "      <td>953.000000</td>\n",
       "      <td>953.000000</td>\n",
       "      <td>953.000000</td>\n",
       "      <td>953.000000</td>\n",
       "      <td>953.000000</td>\n",
       "      <td>953.000000</td>\n",
       "      <td>953.000000</td>\n",
       "      <td>953.000000</td>\n",
       "      <td>953.00000</td>\n",
       "      <td>953.000000</td>\n",
       "      <td>953.000000</td>\n",
       "      <td>953.000000</td>\n",
       "      <td>953.000000</td>\n",
       "      <td>953.000000</td>\n",
       "      <td>953.000000</td>\n",
       "    </tr>\n",
       "    <tr>\n",
       "      <th>mean</th>\n",
       "      <td>1.556139</td>\n",
       "      <td>2018.238195</td>\n",
       "      <td>6.033578</td>\n",
       "      <td>13.930745</td>\n",
       "      <td>5200.124869</td>\n",
       "      <td>12.009444</td>\n",
       "      <td>67.812172</td>\n",
       "      <td>51.908709</td>\n",
       "      <td>2.666317</td>\n",
       "      <td>122.540399</td>\n",
       "      <td>66.96957</td>\n",
       "      <td>51.431270</td>\n",
       "      <td>64.279119</td>\n",
       "      <td>27.057712</td>\n",
       "      <td>1.581322</td>\n",
       "      <td>18.213012</td>\n",
       "      <td>10.131165</td>\n",
       "    </tr>\n",
       "    <tr>\n",
       "      <th>std</th>\n",
       "      <td>0.893044</td>\n",
       "      <td>11.116218</td>\n",
       "      <td>3.566435</td>\n",
       "      <td>9.201949</td>\n",
       "      <td>7897.608990</td>\n",
       "      <td>19.575992</td>\n",
       "      <td>86.441493</td>\n",
       "      <td>50.630241</td>\n",
       "      <td>6.035599</td>\n",
       "      <td>28.057802</td>\n",
       "      <td>14.63061</td>\n",
       "      <td>23.480632</td>\n",
       "      <td>16.550526</td>\n",
       "      <td>25.996077</td>\n",
       "      <td>8.409800</td>\n",
       "      <td>13.711223</td>\n",
       "      <td>9.912888</td>\n",
       "    </tr>\n",
       "    <tr>\n",
       "      <th>min</th>\n",
       "      <td>1.000000</td>\n",
       "      <td>1930.000000</td>\n",
       "      <td>1.000000</td>\n",
       "      <td>1.000000</td>\n",
       "      <td>31.000000</td>\n",
       "      <td>0.000000</td>\n",
       "      <td>0.000000</td>\n",
       "      <td>0.000000</td>\n",
       "      <td>0.000000</td>\n",
       "      <td>65.000000</td>\n",
       "      <td>23.00000</td>\n",
       "      <td>4.000000</td>\n",
       "      <td>9.000000</td>\n",
       "      <td>0.000000</td>\n",
       "      <td>0.000000</td>\n",
       "      <td>3.000000</td>\n",
       "      <td>2.000000</td>\n",
       "    </tr>\n",
       "    <tr>\n",
       "      <th>25%</th>\n",
       "      <td>1.000000</td>\n",
       "      <td>2020.000000</td>\n",
       "      <td>3.000000</td>\n",
       "      <td>6.000000</td>\n",
       "      <td>875.000000</td>\n",
       "      <td>0.000000</td>\n",
       "      <td>13.000000</td>\n",
       "      <td>7.000000</td>\n",
       "      <td>0.000000</td>\n",
       "      <td>100.000000</td>\n",
       "      <td>57.00000</td>\n",
       "      <td>32.000000</td>\n",
       "      <td>53.000000</td>\n",
       "      <td>6.000000</td>\n",
       "      <td>0.000000</td>\n",
       "      <td>10.000000</td>\n",
       "      <td>4.000000</td>\n",
       "    </tr>\n",
       "    <tr>\n",
       "      <th>50%</th>\n",
       "      <td>1.000000</td>\n",
       "      <td>2022.000000</td>\n",
       "      <td>6.000000</td>\n",
       "      <td>13.000000</td>\n",
       "      <td>2224.000000</td>\n",
       "      <td>3.000000</td>\n",
       "      <td>34.000000</td>\n",
       "      <td>38.000000</td>\n",
       "      <td>0.000000</td>\n",
       "      <td>121.000000</td>\n",
       "      <td>69.00000</td>\n",
       "      <td>51.000000</td>\n",
       "      <td>66.000000</td>\n",
       "      <td>18.000000</td>\n",
       "      <td>0.000000</td>\n",
       "      <td>12.000000</td>\n",
       "      <td>6.000000</td>\n",
       "    </tr>\n",
       "    <tr>\n",
       "      <th>75%</th>\n",
       "      <td>2.000000</td>\n",
       "      <td>2022.000000</td>\n",
       "      <td>9.000000</td>\n",
       "      <td>22.000000</td>\n",
       "      <td>5542.000000</td>\n",
       "      <td>16.000000</td>\n",
       "      <td>88.000000</td>\n",
       "      <td>87.000000</td>\n",
       "      <td>2.000000</td>\n",
       "      <td>140.000000</td>\n",
       "      <td>78.00000</td>\n",
       "      <td>70.000000</td>\n",
       "      <td>77.000000</td>\n",
       "      <td>43.000000</td>\n",
       "      <td>0.000000</td>\n",
       "      <td>24.000000</td>\n",
       "      <td>11.000000</td>\n",
       "    </tr>\n",
       "    <tr>\n",
       "      <th>max</th>\n",
       "      <td>8.000000</td>\n",
       "      <td>2023.000000</td>\n",
       "      <td>12.000000</td>\n",
       "      <td>31.000000</td>\n",
       "      <td>52898.000000</td>\n",
       "      <td>147.000000</td>\n",
       "      <td>672.000000</td>\n",
       "      <td>275.000000</td>\n",
       "      <td>58.000000</td>\n",
       "      <td>206.000000</td>\n",
       "      <td>96.00000</td>\n",
       "      <td>97.000000</td>\n",
       "      <td>97.000000</td>\n",
       "      <td>97.000000</td>\n",
       "      <td>91.000000</td>\n",
       "      <td>97.000000</td>\n",
       "      <td>64.000000</td>\n",
       "    </tr>\n",
       "  </tbody>\n",
       "</table>\n",
       "</div>"
      ],
      "text/plain": [
       "       artist_count  released_year  released_month  released_day  \\\n",
       "count    953.000000     953.000000      953.000000    953.000000   \n",
       "mean       1.556139    2018.238195        6.033578     13.930745   \n",
       "std        0.893044      11.116218        3.566435      9.201949   \n",
       "min        1.000000    1930.000000        1.000000      1.000000   \n",
       "25%        1.000000    2020.000000        3.000000      6.000000   \n",
       "50%        1.000000    2022.000000        6.000000     13.000000   \n",
       "75%        2.000000    2022.000000        9.000000     22.000000   \n",
       "max        8.000000    2023.000000       12.000000     31.000000   \n",
       "\n",
       "       in_spotify_playlists  in_spotify_charts  in_apple_playlists  \\\n",
       "count            953.000000         953.000000          953.000000   \n",
       "mean            5200.124869          12.009444           67.812172   \n",
       "std             7897.608990          19.575992           86.441493   \n",
       "min               31.000000           0.000000            0.000000   \n",
       "25%              875.000000           0.000000           13.000000   \n",
       "50%             2224.000000           3.000000           34.000000   \n",
       "75%             5542.000000          16.000000           88.000000   \n",
       "max            52898.000000         147.000000          672.000000   \n",
       "\n",
       "       in_apple_charts  in_deezer_charts         bpm  danceability_%  \\\n",
       "count       953.000000        953.000000  953.000000       953.00000   \n",
       "mean         51.908709          2.666317  122.540399        66.96957   \n",
       "std          50.630241          6.035599   28.057802        14.63061   \n",
       "min           0.000000          0.000000   65.000000        23.00000   \n",
       "25%           7.000000          0.000000  100.000000        57.00000   \n",
       "50%          38.000000          0.000000  121.000000        69.00000   \n",
       "75%          87.000000          2.000000  140.000000        78.00000   \n",
       "max         275.000000         58.000000  206.000000        96.00000   \n",
       "\n",
       "        valence_%    energy_%  acousticness_%  instrumentalness_%  liveness_%  \\\n",
       "count  953.000000  953.000000      953.000000          953.000000  953.000000   \n",
       "mean    51.431270   64.279119       27.057712            1.581322   18.213012   \n",
       "std     23.480632   16.550526       25.996077            8.409800   13.711223   \n",
       "min      4.000000    9.000000        0.000000            0.000000    3.000000   \n",
       "25%     32.000000   53.000000        6.000000            0.000000   10.000000   \n",
       "50%     51.000000   66.000000       18.000000            0.000000   12.000000   \n",
       "75%     70.000000   77.000000       43.000000            0.000000   24.000000   \n",
       "max     97.000000   97.000000       97.000000           91.000000   97.000000   \n",
       "\n",
       "       speechiness_%  \n",
       "count     953.000000  \n",
       "mean       10.131165  \n",
       "std         9.912888  \n",
       "min         2.000000  \n",
       "25%         4.000000  \n",
       "50%         6.000000  \n",
       "75%        11.000000  \n",
       "max        64.000000  "
      ]
     },
     "execution_count": 21,
     "metadata": {},
     "output_type": "execute_result"
    }
   ],
   "source": [
    "df_csv.describe()"
   ]
  }
 ],
 "metadata": {
  "kernelspec": {
   "display_name": "Python 3",
   "language": "python",
   "name": "python3"
  },
  "language_info": {
   "codemirror_mode": {
    "name": "ipython",
    "version": 3
   },
   "file_extension": ".py",
   "mimetype": "text/x-python",
   "name": "python",
   "nbconvert_exporter": "python",
   "pygments_lexer": "ipython3",
   "version": "3.11.4"
  },
  "papermill": {
   "default_parameters": {},
   "duration": 30.368423,
   "end_time": "2023-10-17T13:00:22.041339",
   "environment_variables": {},
   "exception": null,
   "input_path": "__notebook__.ipynb",
   "output_path": "__notebook__.ipynb",
   "parameters": {},
   "start_time": "2023-10-17T12:59:51.672916",
   "version": "2.4.0"
  }
 },
 "nbformat": 4,
 "nbformat_minor": 5
}
