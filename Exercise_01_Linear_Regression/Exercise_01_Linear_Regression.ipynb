{
 "cells": [
  {
   "cell_type": "markdown",
   "metadata": {},
   "source": [
    "# Student Performance Prediction using Linear Regression\n",
    "\n",
    "We'll walk through a machine learning workflow to predict the final grade `G3` based on `G1`, `G2`, `studytime`, `failures`, and `absences`. Let's start with an explanation of each step followed by the code.\n",
    "\n",
    "Source of dataset from [Kaggle](https://www.kaggle.com/datasets/dskagglemt/student-performance-data-set)\n",
    "\n",
    "## Data Attributes\n",
    "1. `school`: Student's school (binary: \"GP\" - Gabriel Pereira or \"MS\" - Mousinho da Silveira)\n",
    "2. `sex`: Student's sex (binary: \"F\" - female or \"M\" - male)\n",
    "3. `age`: Student's age (numeric: from 15 to 22)\n",
    "4. `address`: Student's home address type (binary: \"U\" - urban or \"R\" - rural)\n",
    "5. `famsize`: Family size (binary: \"LE3\" - less or equal to 3 or \"GT3\" - greater than 3)\n",
    "6. `Pstatus`: Parent's cohabitation status (binary: \"T\" - living together or \"A\" - apart)\n",
    "7. `Medu`: Mother's education (numeric: 0 - none, 1 - primary education (4th grade), 2 - 5th to 9th grade, 3 - secondary education, or 4 - higher education)\n",
    "8. `Fedu`: Father's education (numeric: 0 - none, 1 - primary education (4th grade), 2 - 5th to 9th grade, 3 - secondary education, or 4 - higher education)\n",
    "9. `Mjob`: Mother's job (nominal: \"teacher\", \"health\" care related, civil \"services\" (e.g. administrative or police), \"at_home\" or \"other\")\n",
    "10. `Fjob`: Father's job (nominal: \"teacher\", \"health\" care related, civil \"services\" (e.g. administrative or police), \"at_home\" or \"other\")\n",
    "11. `reason`: Reason to choose this school (nominal: close to \"home\", school \"reputation\", \"course\" preference or \"other\")\n",
    "12. `guardian`: Student's guardian (nominal: \"mother\", \"father\" or \"other\")\n",
    "13. `traveltime`: Home to school travel time (numeric: 1 - <15 min., 2 - 15 to 30 min., 3 - 30 min. to 1 hour, or 4 - >1 hour)\n",
    "14. `studytime`: Weekly study time (numeric: 1 - <2 hours, 2 - 2 to 5 hours, 3 - 5 to 10 hours, or 4 - >10 hours)\n",
    "15. `failures`: Number of past class failures (numeric: n if 1<=n<3, else 4)\n",
    "16. `schoolsup`: Extra educational support (binary: yes or no)\n",
    "17. `famsup`: Family educational support (binary: yes or no)\n",
    "18. `paid`: Extra paid classes within the course subject (Math or Portuguese) (binary: yes or no)\n",
    "19. `activities`: Extra-curricular activities (binary: yes or no)\n",
    "20. `nursery`: Attended nursery school (binary: yes or no)\n",
    "21. `higher`: Wants to take higher education (binary: yes or no)\n",
    "22. `internet`: Internet access at home (binary: yes or no)\n",
    "23. `romantic`: With a romantic relationship (binary: yes or no)\n",
    "24. `famrel`: Quality of family relationships (numeric: from 1 - very bad to 5 - excellent)\n",
    "25. `freetime`: Free time after school (numeric: from 1 - very low to 5 - very high)\n",
    "26. `goout`: Going out with friends (numeric: from 1 - very low to 5 - very high)\n",
    "27. `Dalc`: Workday alcohol consumption (numeric: from 1 - very low to 5 - very high)\n",
    "28. `Walc`: Weekend alcohol consumption (numeric: from 1 - very low to 5 - very high)\n",
    "29. `health`: Current health status (numeric: from 1 - very bad to 5 - very good)\n",
    "30. `absences`: Number of school absences (numeric: from 0 to 93)\n",
    "31. `G1`: First period grade (numeric: from 0 to 20)\n",
    "32. `G2`: Second period grade (numeric: from 0 to 20)\n",
    "33. `G3`: Final grade (numeric: from 0 to 20, target variable)"
   ]
  },
  {
   "cell_type": "markdown",
   "metadata": {},
   "source": [
    "## Step 1: Load and Explore the Data\n",
    "First, we'll load the data from the CSV file and take a look at its structure.\n",
    "\n",
    "Explanation:\n",
    "- We'll use `pandas` to load the data.\n",
    "- We'll inspect the first few rows and basic statistics to understand the dataset."
   ]
  },
  {
   "cell_type": "code",
   "execution_count": null,
   "metadata": {},
   "outputs": [],
   "source": [
    "# Import necessary library\n",
    "import pandas as pd\n",
    "\n",
    "# Load the dataset from CSV file\n",
    "data = pd.read_csv('student-performance.csv', sep=';')\n",
    "\n",
    "# Display the first few rows of the dataset\n",
    "data.head()"
   ]
  },
  {
   "cell_type": "code",
   "execution_count": null,
   "metadata": {},
   "outputs": [],
   "source": [
    "# Display basic statistics\n",
    "data.describe()"
   ]
  },
  {
   "cell_type": "markdown",
   "metadata": {},
   "source": [
    "## Step 2: Data Preprocessing\n",
    "We'll select the relevant features and handle any missing values.\n",
    "\n",
    "Explanation:\n",
    "- Select the columns `G1`, `G2`, `studytime`, `failures`, `absences`, and `G3`.\n",
    "- Check for and handle any missing values (if any)."
   ]
  },
  {
   "cell_type": "code",
   "execution_count": null,
   "metadata": {},
   "outputs": [],
   "source": [
    "# Select relevant columns\n",
    "features = ['G1', 'G2', 'studytime', 'failures', 'absences']\n",
    "target = 'G3'\n",
    "\n",
    "# Check for missing values\n",
    "print(data[features + [target]].isnull().sum())\n",
    "\n",
    "# Drop rows with missing target values (if any)\n",
    "data = data.dropna(subset=[target])"
   ]
  },
  {
   "cell_type": "markdown",
   "metadata": {},
   "source": [
    "## Step 3: Split the Data into Training and Testing Sets\n",
    "We need to divide the dataset into training and testing sets to evaluate the model's performance.\n",
    "\n",
    "Explanation:\n",
    "- We'll use the `train_test_split` function from scikit-learn to split the data.\n",
    "- A common split is 80% training and 20% testing."
   ]
  },
  {
   "cell_type": "code",
   "execution_count": null,
   "metadata": {},
   "outputs": [],
   "source": [
    "from sklearn.model_selection import train_test_split\n",
    "\n",
    "# Split the data\n",
    "X = data[features]\n",
    "y = data[target]\n",
    "\n",
    "X_train, X_test, y_train, y_test = train_test_split(X, y, test_size=0.2)\n",
    "\n",
    "# Display the shape of the training and testing sets\n",
    "print(X_train.shape, X_test.shape, y_train.shape, y_test.shape)"
   ]
  },
  {
   "cell_type": "markdown",
   "metadata": {},
   "source": [
    "## Step 4: Train a Machine Learning Model\n",
    "We'll train a model using a regression algorithm. For simplicity, we'll start with a Linear Regression model.\n",
    "\n",
    "Explanation:\n",
    "- We'll use the `LinearRegression` class from scikit-learn.\n",
    "- Fit the model to the training data."
   ]
  },
  {
   "cell_type": "code",
   "execution_count": null,
   "metadata": {},
   "outputs": [],
   "source": [
    "from sklearn.linear_model import LinearRegression\n",
    "\n",
    "# Initialize and train the model\n",
    "model = LinearRegression()\n",
    "model.fit(X_train, y_train)\n",
    "\n",
    "# Display model coefficients\n",
    "print(f'Coefficients: {model.coef_}')\n",
    "print(f'Intercept: {model.intercept_}')"
   ]
  },
  {
   "cell_type": "markdown",
   "metadata": {},
   "source": [
    "### Coefficients:\n",
    "\n",
    "Each coefficient represents the change in the target variable `G3` for a one-unit change in the respective feature, assuming all other features are held constant.\n",
    "\n",
    "- G1 (0.14446336): For each additional unit increase in G1, G3 increases by approximately 0.144.\n",
    "- G2 (0.97961532): For each additional unit increase in G2, G3 increases by approximately 0.98.\n",
    "- studytime (-0.07123057): For each additional unit increase in study time, G3 decreases by approximately 0.071.\n",
    "- failures (-0.45581289): For each additional failure, G3 decreases by approximately 0.456.\n",
    "- absences (0.0392449): For each additional unit increase in absences, G3 increases by approximately 0.039.\n",
    "\n",
    "The coefficients for studytime and absences might seem counterintuitive, indicating that higher study time decreases G3 slightly, and higher absences increase G3 slightly. This could suggest multicollinearity or that the effect of these features on G3 might not be linear or that there are other underlying factors influencing these relationships.\n",
    "\n",
    "### Intercept:\n",
    "\n",
    "Intercept=−1.6213124035190951\n",
    "\n",
    "The intercept represents the expected value of G3 when all the features are zero. This value doesn't have much practical interpretation in this context since having zero grades, study time, failures, and absences isn't realistic."
   ]
  },
  {
   "cell_type": "markdown",
   "metadata": {},
   "source": [
    "## Step 5: Evaluate the Model\n",
    "We'll evaluate the model's performance using metrics such as `Mean Absolute Error (MAE)`, `Mean Squared Error (MSE)`, and `R-squared score`.\n",
    "\n",
    "Explanation:\n",
    "- Predict the target values for the test set.\n",
    "- Calculate evaluation metrics to assess model performance."
   ]
  },
  {
   "cell_type": "code",
   "execution_count": null,
   "metadata": {},
   "outputs": [],
   "source": [
    "from sklearn.metrics import mean_absolute_error, mean_squared_error, r2_score\n",
    "\n",
    "# Predict the target values for the test set\n",
    "y_pred = model.predict(X_test)\n",
    "\n",
    "# Calculate evaluation metrics\n",
    "mae = mean_absolute_error(y_test, y_pred)\n",
    "mse = mean_squared_error(y_test, y_pred)\n",
    "r2 = r2_score(y_test, y_pred)\n",
    "\n",
    "print(f'Mean Absolute Error: {mae}')\n",
    "print(f'Mean Squared Error: {mse}')\n",
    "print(f'R-squared: {r2}')"
   ]
  },
  {
   "cell_type": "markdown",
   "metadata": {},
   "source": [
    "### Evaluation Metrics\n",
    "\n",
    "#### Mean Absolute Error (MAE):\n",
    "\n",
    "MAE=1.3394159082670924\n",
    "\n",
    "The MAE measures the average magnitude of the errors in the predictions, without considering their direction. An MAE of 1.34 means that, on average, the model's predictions are off by about 1.34 units of 𝐺 3 G3.\n",
    "\n",
    "#### Mean Squared Error (MSE):\n",
    "\n",
    "MSE=4.4665032120156045\n",
    "\n",
    "The MSE measures the average squared differences between predicted and actual values. It gives more weight to larger errors. An MSE of 4.47 indicates that there are some larger errors in the predictions.\n",
    "\n",
    "#### R-squared (R<sup>2</sup>):\n",
    "R<sup>2</sup>=0.7821754247320556\n",
    "\n",
    "The R<sup>2</sup> score indicates how well the model's predictions fit the actual data. An R<sup>2</sup> of 0.78 means that approximately 78% of the variance in G3 can be explained by the model. This is a relatively high value, suggesting the model has a good fit to the data."
   ]
  },
  {
   "cell_type": "markdown",
   "metadata": {},
   "source": [
    "### Summary\n",
    "\n",
    "- The model performs reasonably well with an R<sup>2</sup> of 0.78, meaning it explains 78% of the variance in the final grade G3.\n",
    "- The MAE of 1.34 indicates that the predictions are, on average, 1.34 units away from the actual G3.\n",
    "- The coefficients provide insights into the relationships between the features and G3, though some coefficients (e.g., studytime and absences) might require further investigation or additional feature engineering to better understand their effects."
   ]
  },
  {
   "cell_type": "markdown",
   "metadata": {},
   "source": [
    "## Step 6: Predict Student Performance for a Different Value of Experience\n",
    "- **Collect New Student Data**: Gather the necessary features for the new student.\n",
    "- **Preprocess the New Data**: Convert the new data into a DataFrame (or appropriate format) and ensure it matches the structure of the training data.\n",
    "- **Make Predictions**: Use the `predict` method of the trained model to make predictions."
   ]
  },
  {
   "cell_type": "code",
   "execution_count": null,
   "metadata": {},
   "outputs": [],
   "source": [
    "# Data attributes information\n",
    "# G1: First period grade (numeric: from 0 to 20)\n",
    "# G2: Second period grade (numeric: from 0 to 20)\n",
    "# studytime: Weekly study time (numeric: 1 - <2 hours, 2 - 2 to 5 hours, 3 - 5 to 10 hours, or 4 - >10 hours)\n",
    "# failures: Number of past class failures (numeric: n if 1<=n<3, else 4)\n",
    "# absences: Number of school absences (numeric: from 0 to 93)\n",
    "\n",
    "# New student data\n",
    "new_student = {\n",
    "    'G1': 20,\n",
    "    'G2': 5,\n",
    "    'studytime': 4,\n",
    "    'failures': 0,\n",
    "    'absences': 10\n",
    "}\n",
    "\n",
    "# Convert the new student data to a DataFrame\n",
    "new_student_data = pd.DataFrame([new_student])\n",
    "\n",
    "# Make a prediction\n",
    "new_student_prediction = model.predict(new_student_data)\n",
    "\n",
    "print(f'Predicted G3 for the new student: {new_student_prediction[0]}')\n"
   ]
  }
 ],
 "metadata": {
  "kernelspec": {
   "display_name": "Python 3",
   "language": "python",
   "name": "python3"
  },
  "language_info": {
   "codemirror_mode": {
    "name": "ipython",
    "version": 3
   },
   "file_extension": ".py",
   "mimetype": "text/x-python",
   "name": "python",
   "nbconvert_exporter": "python",
   "pygments_lexer": "ipython3",
   "version": "3.11.4"
  }
 },
 "nbformat": 4,
 "nbformat_minor": 2
}
